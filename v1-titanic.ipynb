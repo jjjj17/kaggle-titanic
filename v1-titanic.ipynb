{
 "cells": [
  {
   "cell_type": "code",
   "execution_count": 1,
   "id": "502465d3",
   "metadata": {
    "_cell_guid": "b1076dfc-b9ad-4769-8c92-a6c4dae69d19",
    "_uuid": "8f2839f25d086af736a60e9eeb907d3b93b6e0e5",
    "execution": {
     "iopub.execute_input": "2024-03-06T22:35:52.165714Z",
     "iopub.status.busy": "2024-03-06T22:35:52.164870Z",
     "iopub.status.idle": "2024-03-06T22:35:53.087404Z",
     "shell.execute_reply": "2024-03-06T22:35:53.086261Z"
    },
    "papermill": {
     "duration": 0.935405,
     "end_time": "2024-03-06T22:35:53.090142",
     "exception": false,
     "start_time": "2024-03-06T22:35:52.154737",
     "status": "completed"
    },
    "tags": []
   },
   "outputs": [
    {
     "name": "stdout",
     "output_type": "stream",
     "text": [
      "/kaggle/input/titanic/train.csv\n",
      "/kaggle/input/titanic/test.csv\n",
      "/kaggle/input/titanic/gender_submission.csv\n"
     ]
    }
   ],
   "source": [
    "# This Python 3 environment comes with many helpful analytics libraries installed\n",
    "# It is defined by the kaggle/python Docker image: https://github.com/kaggle/docker-python\n",
    "# For example, here's several helpful packages to load\n",
    "\n",
    "import numpy as np # linear algebra\n",
    "import pandas as pd # data processing, CSV file I/O (e.g. pd.read_csv)\n",
    "\n",
    "# Input data files are available in the read-only \"../input/\" directory\n",
    "# For example, running this (by clicking run or pressing Shift+Enter) will list all files under the input directory\n",
    "\n",
    "import os\n",
    "for dirname, _, filenames in os.walk('/kaggle/input'):\n",
    "    for filename in filenames:\n",
    "        print(os.path.join(dirname, filename))\n",
    "\n",
    "# You can write up to 20GB to the current directory (/kaggle/working/) that gets preserved as output when you create a version using \"Save & Run All\" \n",
    "# You can also write temporary files to /kaggle/temp/, but they won't be saved outside of the current session"
   ]
  },
  {
   "cell_type": "code",
   "execution_count": 2,
   "id": "b5d8a645",
   "metadata": {
    "execution": {
     "iopub.execute_input": "2024-03-06T22:35:53.108088Z",
     "iopub.status.busy": "2024-03-06T22:35:53.107559Z",
     "iopub.status.idle": "2024-03-06T22:35:55.087315Z",
     "shell.execute_reply": "2024-03-06T22:35:55.086045Z"
    },
    "papermill": {
     "duration": 1.99242,
     "end_time": "2024-03-06T22:35:55.090192",
     "exception": false,
     "start_time": "2024-03-06T22:35:53.097772",
     "status": "completed"
    },
    "tags": []
   },
   "outputs": [],
   "source": [
    "from sklearn.tree import DecisionTreeClassifier\n",
    "from sklearn import tree\n",
    "from sklearn.metrics import accuracy_score\n",
    "from matplotlib import pyplot as plt\n",
    "import graphviz\n",
    "import xgboost as xgb\n",
    "from sklearn.metrics import mean_absolute_error"
   ]
  },
  {
   "cell_type": "markdown",
   "id": "a1a029af",
   "metadata": {
    "papermill": {
     "duration": 0.0077,
     "end_time": "2024-03-06T22:35:55.105435",
     "exception": false,
     "start_time": "2024-03-06T22:35:55.097735",
     "status": "completed"
    },
    "tags": []
   },
   "source": [
    "## Data Treatment"
   ]
  },
  {
   "cell_type": "code",
   "execution_count": 3,
   "id": "66f1882e",
   "metadata": {
    "execution": {
     "iopub.execute_input": "2024-03-06T22:35:55.123511Z",
     "iopub.status.busy": "2024-03-06T22:35:55.122485Z",
     "iopub.status.idle": "2024-03-06T22:35:55.144064Z",
     "shell.execute_reply": "2024-03-06T22:35:55.142757Z"
    },
    "papermill": {
     "duration": 0.034163,
     "end_time": "2024-03-06T22:35:55.147286",
     "exception": false,
     "start_time": "2024-03-06T22:35:55.113123",
     "status": "completed"
    },
    "tags": []
   },
   "outputs": [],
   "source": [
    "df = pd.read_csv(\"/kaggle/input/titanic/train.csv\")"
   ]
  },
  {
   "cell_type": "code",
   "execution_count": 4,
   "id": "c5f70b4d",
   "metadata": {
    "execution": {
     "iopub.execute_input": "2024-03-06T22:35:55.164643Z",
     "iopub.status.busy": "2024-03-06T22:35:55.164222Z",
     "iopub.status.idle": "2024-03-06T22:35:55.177157Z",
     "shell.execute_reply": "2024-03-06T22:35:55.175904Z"
    },
    "papermill": {
     "duration": 0.024866,
     "end_time": "2024-03-06T22:35:55.179874",
     "exception": false,
     "start_time": "2024-03-06T22:35:55.155008",
     "status": "completed"
    },
    "tags": []
   },
   "outputs": [
    {
     "name": "stdout",
     "output_type": "stream",
     "text": [
      "633 examples in training, 258 examples in testing.\n"
     ]
    }
   ],
   "source": [
    "def split_dataset(dataset, test_ratio=0.28):\n",
    "  test_indices = np.random.rand(len(dataset)) < test_ratio\n",
    "  return dataset[~test_indices], dataset[test_indices]\n",
    "\n",
    "dft, dfv = split_dataset(df)\n",
    "print(\"{} examples in training, {} examples in testing.\".format(\n",
    "    len(dft), len(dfv)))"
   ]
  },
  {
   "cell_type": "code",
   "execution_count": 5,
   "id": "38943aa9",
   "metadata": {
    "execution": {
     "iopub.execute_input": "2024-03-06T22:35:55.198196Z",
     "iopub.status.busy": "2024-03-06T22:35:55.197413Z",
     "iopub.status.idle": "2024-03-06T22:35:55.211166Z",
     "shell.execute_reply": "2024-03-06T22:35:55.209738Z"
    },
    "papermill": {
     "duration": 0.025934,
     "end_time": "2024-03-06T22:35:55.214117",
     "exception": false,
     "start_time": "2024-03-06T22:35:55.188183",
     "status": "completed"
    },
    "tags": []
   },
   "outputs": [],
   "source": [
    "y= dft['Survived']\n",
    "Y=dfv['Survived']\n",
    "x = dfv.drop(['Survived','Name','Ticket','Cabin'],axis=1)\n",
    "X=dft.drop(['Survived','Name','Ticket','Cabin'],axis=1)"
   ]
  },
  {
   "cell_type": "code",
   "execution_count": 6,
   "id": "790995e2",
   "metadata": {
    "execution": {
     "iopub.execute_input": "2024-03-06T22:35:55.232313Z",
     "iopub.status.busy": "2024-03-06T22:35:55.231624Z",
     "iopub.status.idle": "2024-03-06T22:35:55.246126Z",
     "shell.execute_reply": "2024-03-06T22:35:55.244989Z"
    },
    "papermill": {
     "duration": 0.026807,
     "end_time": "2024-03-06T22:35:55.248725",
     "exception": false,
     "start_time": "2024-03-06T22:35:55.221918",
     "status": "completed"
    },
    "tags": []
   },
   "outputs": [
    {
     "name": "stderr",
     "output_type": "stream",
     "text": [
      "/tmp/ipykernel_18/2973458064.py:3: FutureWarning: Downcasting behavior in `replace` is deprecated and will be removed in a future version. To retain the old behavior, explicitly call `result.infer_objects(copy=False)`. To opt-in to the future behavior, set `pd.set_option('future.no_silent_downcasting', True)`\n",
      "  X['Sex'] = X['Sex'].replace({'male': 0, 'female': 1})\n",
      "/tmp/ipykernel_18/2973458064.py:4: FutureWarning: Downcasting behavior in `replace` is deprecated and will be removed in a future version. To retain the old behavior, explicitly call `result.infer_objects(copy=False)`. To opt-in to the future behavior, set `pd.set_option('future.no_silent_downcasting', True)`\n",
      "  X['Embarked'] = X['Embarked'].replace({'S': 0, 'C': 1,'Q': 2})\n"
     ]
    }
   ],
   "source": [
    "X['Embarked'] = X['Embarked'].fillna('S')\n",
    "X['Age'] = X['Age'].fillna(round(df.Age.mean()))\n",
    "X['Sex'] = X['Sex'].replace({'male': 0, 'female': 1})\n",
    "X['Embarked'] = X['Embarked'].replace({'S': 0, 'C': 1,'Q': 2})"
   ]
  },
  {
   "cell_type": "code",
   "execution_count": 7,
   "id": "92188126",
   "metadata": {
    "execution": {
     "iopub.execute_input": "2024-03-06T22:35:55.266556Z",
     "iopub.status.busy": "2024-03-06T22:35:55.265606Z",
     "iopub.status.idle": "2024-03-06T22:35:55.276573Z",
     "shell.execute_reply": "2024-03-06T22:35:55.275397Z"
    },
    "papermill": {
     "duration": 0.023366,
     "end_time": "2024-03-06T22:35:55.279691",
     "exception": false,
     "start_time": "2024-03-06T22:35:55.256325",
     "status": "completed"
    },
    "tags": []
   },
   "outputs": [
    {
     "name": "stderr",
     "output_type": "stream",
     "text": [
      "/tmp/ipykernel_18/1346004681.py:3: FutureWarning: Downcasting behavior in `replace` is deprecated and will be removed in a future version. To retain the old behavior, explicitly call `result.infer_objects(copy=False)`. To opt-in to the future behavior, set `pd.set_option('future.no_silent_downcasting', True)`\n",
      "  x['Sex'] = x['Sex'].replace({'male': 0, 'female': 1})\n",
      "/tmp/ipykernel_18/1346004681.py:4: FutureWarning: Downcasting behavior in `replace` is deprecated and will be removed in a future version. To retain the old behavior, explicitly call `result.infer_objects(copy=False)`. To opt-in to the future behavior, set `pd.set_option('future.no_silent_downcasting', True)`\n",
      "  x['Embarked'] = x['Embarked'].replace({'S': 0, 'C': 1,'Q': 2})\n"
     ]
    }
   ],
   "source": [
    "x['Embarked'] = x['Embarked'].fillna('S')\n",
    "x['Age'] = x['Age'].fillna(round(df.Age.mean()))\n",
    "x['Sex'] = x['Sex'].replace({'male': 0, 'female': 1})\n",
    "x['Embarked'] = x['Embarked'].replace({'S': 0, 'C': 1,'Q': 2})"
   ]
  },
  {
   "cell_type": "markdown",
   "id": "047b20b6",
   "metadata": {
    "papermill": {
     "duration": 0.007621,
     "end_time": "2024-03-06T22:35:55.295255",
     "exception": false,
     "start_time": "2024-03-06T22:35:55.287634",
     "status": "completed"
    },
    "tags": []
   },
   "source": [
    "## Modeling"
   ]
  },
  {
   "cell_type": "markdown",
   "id": "6512e20a",
   "metadata": {
    "papermill": {
     "duration": 0.007536,
     "end_time": "2024-03-06T22:35:55.310733",
     "exception": false,
     "start_time": "2024-03-06T22:35:55.303197",
     "status": "completed"
    },
    "tags": []
   },
   "source": [
    "### Decision Tree Classifier"
   ]
  },
  {
   "cell_type": "code",
   "execution_count": 8,
   "id": "bbf4079b",
   "metadata": {
    "execution": {
     "iopub.execute_input": "2024-03-06T22:35:55.329379Z",
     "iopub.status.busy": "2024-03-06T22:35:55.328985Z",
     "iopub.status.idle": "2024-03-06T22:35:55.333827Z",
     "shell.execute_reply": "2024-03-06T22:35:55.332817Z"
    },
    "papermill": {
     "duration": 0.017521,
     "end_time": "2024-03-06T22:35:55.336108",
     "exception": false,
     "start_time": "2024-03-06T22:35:55.318587",
     "status": "completed"
    },
    "tags": []
   },
   "outputs": [],
   "source": [
    "model=DecisionTreeClassifier(max_depth=5)"
   ]
  },
  {
   "cell_type": "code",
   "execution_count": 9,
   "id": "1285afb8",
   "metadata": {
    "execution": {
     "iopub.execute_input": "2024-03-06T22:35:55.354279Z",
     "iopub.status.busy": "2024-03-06T22:35:55.353080Z",
     "iopub.status.idle": "2024-03-06T22:35:55.371363Z",
     "shell.execute_reply": "2024-03-06T22:35:55.370052Z"
    },
    "papermill": {
     "duration": 0.029686,
     "end_time": "2024-03-06T22:35:55.373774",
     "exception": false,
     "start_time": "2024-03-06T22:35:55.344088",
     "status": "completed"
    },
    "tags": []
   },
   "outputs": [
    {
     "data": {
      "text/html": [
       "<style>#sk-container-id-1 {color: black;background-color: white;}#sk-container-id-1 pre{padding: 0;}#sk-container-id-1 div.sk-toggleable {background-color: white;}#sk-container-id-1 label.sk-toggleable__label {cursor: pointer;display: block;width: 100%;margin-bottom: 0;padding: 0.3em;box-sizing: border-box;text-align: center;}#sk-container-id-1 label.sk-toggleable__label-arrow:before {content: \"▸\";float: left;margin-right: 0.25em;color: #696969;}#sk-container-id-1 label.sk-toggleable__label-arrow:hover:before {color: black;}#sk-container-id-1 div.sk-estimator:hover label.sk-toggleable__label-arrow:before {color: black;}#sk-container-id-1 div.sk-toggleable__content {max-height: 0;max-width: 0;overflow: hidden;text-align: left;background-color: #f0f8ff;}#sk-container-id-1 div.sk-toggleable__content pre {margin: 0.2em;color: black;border-radius: 0.25em;background-color: #f0f8ff;}#sk-container-id-1 input.sk-toggleable__control:checked~div.sk-toggleable__content {max-height: 200px;max-width: 100%;overflow: auto;}#sk-container-id-1 input.sk-toggleable__control:checked~label.sk-toggleable__label-arrow:before {content: \"▾\";}#sk-container-id-1 div.sk-estimator input.sk-toggleable__control:checked~label.sk-toggleable__label {background-color: #d4ebff;}#sk-container-id-1 div.sk-label input.sk-toggleable__control:checked~label.sk-toggleable__label {background-color: #d4ebff;}#sk-container-id-1 input.sk-hidden--visually {border: 0;clip: rect(1px 1px 1px 1px);clip: rect(1px, 1px, 1px, 1px);height: 1px;margin: -1px;overflow: hidden;padding: 0;position: absolute;width: 1px;}#sk-container-id-1 div.sk-estimator {font-family: monospace;background-color: #f0f8ff;border: 1px dotted black;border-radius: 0.25em;box-sizing: border-box;margin-bottom: 0.5em;}#sk-container-id-1 div.sk-estimator:hover {background-color: #d4ebff;}#sk-container-id-1 div.sk-parallel-item::after {content: \"\";width: 100%;border-bottom: 1px solid gray;flex-grow: 1;}#sk-container-id-1 div.sk-label:hover label.sk-toggleable__label {background-color: #d4ebff;}#sk-container-id-1 div.sk-serial::before {content: \"\";position: absolute;border-left: 1px solid gray;box-sizing: border-box;top: 0;bottom: 0;left: 50%;z-index: 0;}#sk-container-id-1 div.sk-serial {display: flex;flex-direction: column;align-items: center;background-color: white;padding-right: 0.2em;padding-left: 0.2em;position: relative;}#sk-container-id-1 div.sk-item {position: relative;z-index: 1;}#sk-container-id-1 div.sk-parallel {display: flex;align-items: stretch;justify-content: center;background-color: white;position: relative;}#sk-container-id-1 div.sk-item::before, #sk-container-id-1 div.sk-parallel-item::before {content: \"\";position: absolute;border-left: 1px solid gray;box-sizing: border-box;top: 0;bottom: 0;left: 50%;z-index: -1;}#sk-container-id-1 div.sk-parallel-item {display: flex;flex-direction: column;z-index: 1;position: relative;background-color: white;}#sk-container-id-1 div.sk-parallel-item:first-child::after {align-self: flex-end;width: 50%;}#sk-container-id-1 div.sk-parallel-item:last-child::after {align-self: flex-start;width: 50%;}#sk-container-id-1 div.sk-parallel-item:only-child::after {width: 0;}#sk-container-id-1 div.sk-dashed-wrapped {border: 1px dashed gray;margin: 0 0.4em 0.5em 0.4em;box-sizing: border-box;padding-bottom: 0.4em;background-color: white;}#sk-container-id-1 div.sk-label label {font-family: monospace;font-weight: bold;display: inline-block;line-height: 1.2em;}#sk-container-id-1 div.sk-label-container {text-align: center;}#sk-container-id-1 div.sk-container {/* jupyter's `normalize.less` sets `[hidden] { display: none; }` but bootstrap.min.css set `[hidden] { display: none !important; }` so we also need the `!important` here to be able to override the default hidden behavior on the sphinx rendered scikit-learn.org. See: https://github.com/scikit-learn/scikit-learn/issues/21755 */display: inline-block !important;position: relative;}#sk-container-id-1 div.sk-text-repr-fallback {display: none;}</style><div id=\"sk-container-id-1\" class=\"sk-top-container\"><div class=\"sk-text-repr-fallback\"><pre>DecisionTreeClassifier(max_depth=5)</pre><b>In a Jupyter environment, please rerun this cell to show the HTML representation or trust the notebook. <br />On GitHub, the HTML representation is unable to render, please try loading this page with nbviewer.org.</b></div><div class=\"sk-container\" hidden><div class=\"sk-item\"><div class=\"sk-estimator sk-toggleable\"><input class=\"sk-toggleable__control sk-hidden--visually\" id=\"sk-estimator-id-1\" type=\"checkbox\" checked><label for=\"sk-estimator-id-1\" class=\"sk-toggleable__label sk-toggleable__label-arrow\">DecisionTreeClassifier</label><div class=\"sk-toggleable__content\"><pre>DecisionTreeClassifier(max_depth=5)</pre></div></div></div></div></div>"
      ],
      "text/plain": [
       "DecisionTreeClassifier(max_depth=5)"
      ]
     },
     "execution_count": 9,
     "metadata": {},
     "output_type": "execute_result"
    }
   ],
   "source": [
    "model.fit(X,y)"
   ]
  },
  {
   "cell_type": "code",
   "execution_count": 10,
   "id": "043a69ec",
   "metadata": {
    "execution": {
     "iopub.execute_input": "2024-03-06T22:35:55.391756Z",
     "iopub.status.busy": "2024-03-06T22:35:55.391322Z",
     "iopub.status.idle": "2024-03-06T22:35:55.403255Z",
     "shell.execute_reply": "2024-03-06T22:35:55.402060Z"
    },
    "papermill": {
     "duration": 0.023648,
     "end_time": "2024-03-06T22:35:55.405567",
     "exception": false,
     "start_time": "2024-03-06T22:35:55.381919",
     "status": "completed"
    },
    "tags": []
   },
   "outputs": [
    {
     "data": {
      "text/plain": [
       "0.810077519379845"
      ]
     },
     "execution_count": 10,
     "metadata": {},
     "output_type": "execute_result"
    }
   ],
   "source": [
    "trueval = dfv['Survived']\n",
    "predval = model.predict(x)\n",
    "accuracy_score(trueval, predval)"
   ]
  },
  {
   "cell_type": "markdown",
   "id": "aef4a22c",
   "metadata": {
    "papermill": {
     "duration": 0.008855,
     "end_time": "2024-03-06T22:35:55.423153",
     "exception": false,
     "start_time": "2024-03-06T22:35:55.414298",
     "status": "completed"
    },
    "tags": []
   },
   "source": [
    "### XG Boost Random Forest Classifier"
   ]
  },
  {
   "cell_type": "code",
   "execution_count": 11,
   "id": "f93e0a70",
   "metadata": {
    "execution": {
     "iopub.execute_input": "2024-03-06T22:35:55.442090Z",
     "iopub.status.busy": "2024-03-06T22:35:55.441176Z",
     "iopub.status.idle": "2024-03-06T22:35:55.447287Z",
     "shell.execute_reply": "2024-03-06T22:35:55.446039Z"
    },
    "papermill": {
     "duration": 0.018021,
     "end_time": "2024-03-06T22:35:55.449609",
     "exception": false,
     "start_time": "2024-03-06T22:35:55.431588",
     "status": "completed"
    },
    "tags": []
   },
   "outputs": [],
   "source": [
    "m2 = xgb.XGBRFClassifier(\n",
    "    learning_rate=1.0,\n",
    "    booster='gbtree',\n",
    "    device='cpu',\n",
    "    eval_metric=mean_absolute_error,\n",
    "    grow_policy = 'depthwise'\n",
    ")"
   ]
  },
  {
   "cell_type": "code",
   "execution_count": 12,
   "id": "11250242",
   "metadata": {
    "execution": {
     "iopub.execute_input": "2024-03-06T22:35:55.470801Z",
     "iopub.status.busy": "2024-03-06T22:35:55.469645Z",
     "iopub.status.idle": "2024-03-06T22:35:55.616329Z",
     "shell.execute_reply": "2024-03-06T22:35:55.615405Z"
    },
    "papermill": {
     "duration": 0.160852,
     "end_time": "2024-03-06T22:35:55.619237",
     "exception": false,
     "start_time": "2024-03-06T22:35:55.458385",
     "status": "completed"
    },
    "tags": []
   },
   "outputs": [
    {
     "name": "stdout",
     "output_type": "stream",
     "text": [
      "[0]\tvalidation_0-logloss:0.34089\tvalidation_0-mean_absolute_error:0.25312\tvalidation_1-logloss:0.41758\tvalidation_1-mean_absolute_error:0.28597\n"
     ]
    },
    {
     "data": {
      "text/html": [
       "<style>#sk-container-id-2 {color: black;background-color: white;}#sk-container-id-2 pre{padding: 0;}#sk-container-id-2 div.sk-toggleable {background-color: white;}#sk-container-id-2 label.sk-toggleable__label {cursor: pointer;display: block;width: 100%;margin-bottom: 0;padding: 0.3em;box-sizing: border-box;text-align: center;}#sk-container-id-2 label.sk-toggleable__label-arrow:before {content: \"▸\";float: left;margin-right: 0.25em;color: #696969;}#sk-container-id-2 label.sk-toggleable__label-arrow:hover:before {color: black;}#sk-container-id-2 div.sk-estimator:hover label.sk-toggleable__label-arrow:before {color: black;}#sk-container-id-2 div.sk-toggleable__content {max-height: 0;max-width: 0;overflow: hidden;text-align: left;background-color: #f0f8ff;}#sk-container-id-2 div.sk-toggleable__content pre {margin: 0.2em;color: black;border-radius: 0.25em;background-color: #f0f8ff;}#sk-container-id-2 input.sk-toggleable__control:checked~div.sk-toggleable__content {max-height: 200px;max-width: 100%;overflow: auto;}#sk-container-id-2 input.sk-toggleable__control:checked~label.sk-toggleable__label-arrow:before {content: \"▾\";}#sk-container-id-2 div.sk-estimator input.sk-toggleable__control:checked~label.sk-toggleable__label {background-color: #d4ebff;}#sk-container-id-2 div.sk-label input.sk-toggleable__control:checked~label.sk-toggleable__label {background-color: #d4ebff;}#sk-container-id-2 input.sk-hidden--visually {border: 0;clip: rect(1px 1px 1px 1px);clip: rect(1px, 1px, 1px, 1px);height: 1px;margin: -1px;overflow: hidden;padding: 0;position: absolute;width: 1px;}#sk-container-id-2 div.sk-estimator {font-family: monospace;background-color: #f0f8ff;border: 1px dotted black;border-radius: 0.25em;box-sizing: border-box;margin-bottom: 0.5em;}#sk-container-id-2 div.sk-estimator:hover {background-color: #d4ebff;}#sk-container-id-2 div.sk-parallel-item::after {content: \"\";width: 100%;border-bottom: 1px solid gray;flex-grow: 1;}#sk-container-id-2 div.sk-label:hover label.sk-toggleable__label {background-color: #d4ebff;}#sk-container-id-2 div.sk-serial::before {content: \"\";position: absolute;border-left: 1px solid gray;box-sizing: border-box;top: 0;bottom: 0;left: 50%;z-index: 0;}#sk-container-id-2 div.sk-serial {display: flex;flex-direction: column;align-items: center;background-color: white;padding-right: 0.2em;padding-left: 0.2em;position: relative;}#sk-container-id-2 div.sk-item {position: relative;z-index: 1;}#sk-container-id-2 div.sk-parallel {display: flex;align-items: stretch;justify-content: center;background-color: white;position: relative;}#sk-container-id-2 div.sk-item::before, #sk-container-id-2 div.sk-parallel-item::before {content: \"\";position: absolute;border-left: 1px solid gray;box-sizing: border-box;top: 0;bottom: 0;left: 50%;z-index: -1;}#sk-container-id-2 div.sk-parallel-item {display: flex;flex-direction: column;z-index: 1;position: relative;background-color: white;}#sk-container-id-2 div.sk-parallel-item:first-child::after {align-self: flex-end;width: 50%;}#sk-container-id-2 div.sk-parallel-item:last-child::after {align-self: flex-start;width: 50%;}#sk-container-id-2 div.sk-parallel-item:only-child::after {width: 0;}#sk-container-id-2 div.sk-dashed-wrapped {border: 1px dashed gray;margin: 0 0.4em 0.5em 0.4em;box-sizing: border-box;padding-bottom: 0.4em;background-color: white;}#sk-container-id-2 div.sk-label label {font-family: monospace;font-weight: bold;display: inline-block;line-height: 1.2em;}#sk-container-id-2 div.sk-label-container {text-align: center;}#sk-container-id-2 div.sk-container {/* jupyter's `normalize.less` sets `[hidden] { display: none; }` but bootstrap.min.css set `[hidden] { display: none !important; }` so we also need the `!important` here to be able to override the default hidden behavior on the sphinx rendered scikit-learn.org. See: https://github.com/scikit-learn/scikit-learn/issues/21755 */display: inline-block !important;position: relative;}#sk-container-id-2 div.sk-text-repr-fallback {display: none;}</style><div id=\"sk-container-id-2\" class=\"sk-top-container\"><div class=\"sk-text-repr-fallback\"><pre>XGBRFClassifier(base_score=None, booster=&#x27;gbtree&#x27;, callbacks=None,\n",
       "                colsample_bylevel=None, colsample_bytree=None, device=&#x27;cpu&#x27;,\n",
       "                early_stopping_rounds=None, enable_categorical=False,\n",
       "                eval_metric=&lt;function mean_absolute_error at 0x7b8f93aacb80&gt;,\n",
       "                feature_types=None, gamma=None, grow_policy=&#x27;depthwise&#x27;,\n",
       "                importance_type=None, interaction_constraints=None,\n",
       "                max_bin=None, max_cat_threshold=None, max_cat_to_onehot=None,\n",
       "                max_delta_step=None, max_depth=None, max_leaves=None,\n",
       "                min_child_weight=None, missing=nan, monotone_constraints=None,\n",
       "                multi_strategy=None, n_estimators=None, n_jobs=None,\n",
       "                num_parallel_tree=None, objective=&#x27;binary:logistic&#x27;,\n",
       "                random_state=None, reg_alpha=None, ...)</pre><b>In a Jupyter environment, please rerun this cell to show the HTML representation or trust the notebook. <br />On GitHub, the HTML representation is unable to render, please try loading this page with nbviewer.org.</b></div><div class=\"sk-container\" hidden><div class=\"sk-item\"><div class=\"sk-estimator sk-toggleable\"><input class=\"sk-toggleable__control sk-hidden--visually\" id=\"sk-estimator-id-2\" type=\"checkbox\" checked><label for=\"sk-estimator-id-2\" class=\"sk-toggleable__label sk-toggleable__label-arrow\">XGBRFClassifier</label><div class=\"sk-toggleable__content\"><pre>XGBRFClassifier(base_score=None, booster=&#x27;gbtree&#x27;, callbacks=None,\n",
       "                colsample_bylevel=None, colsample_bytree=None, device=&#x27;cpu&#x27;,\n",
       "                early_stopping_rounds=None, enable_categorical=False,\n",
       "                eval_metric=&lt;function mean_absolute_error at 0x7b8f93aacb80&gt;,\n",
       "                feature_types=None, gamma=None, grow_policy=&#x27;depthwise&#x27;,\n",
       "                importance_type=None, interaction_constraints=None,\n",
       "                max_bin=None, max_cat_threshold=None, max_cat_to_onehot=None,\n",
       "                max_delta_step=None, max_depth=None, max_leaves=None,\n",
       "                min_child_weight=None, missing=nan, monotone_constraints=None,\n",
       "                multi_strategy=None, n_estimators=None, n_jobs=None,\n",
       "                num_parallel_tree=None, objective=&#x27;binary:logistic&#x27;,\n",
       "                random_state=None, reg_alpha=None, ...)</pre></div></div></div></div></div>"
      ],
      "text/plain": [
       "XGBRFClassifier(base_score=None, booster='gbtree', callbacks=None,\n",
       "                colsample_bylevel=None, colsample_bytree=None, device='cpu',\n",
       "                early_stopping_rounds=None, enable_categorical=False,\n",
       "                eval_metric=<function mean_absolute_error at 0x7b8f93aacb80>,\n",
       "                feature_types=None, gamma=None, grow_policy='depthwise',\n",
       "                importance_type=None, interaction_constraints=None,\n",
       "                max_bin=None, max_cat_threshold=None, max_cat_to_onehot=None,\n",
       "                max_delta_step=None, max_depth=None, max_leaves=None,\n",
       "                min_child_weight=None, missing=nan, monotone_constraints=None,\n",
       "                multi_strategy=None, n_estimators=None, n_jobs=None,\n",
       "                num_parallel_tree=None, objective='binary:logistic',\n",
       "                random_state=None, reg_alpha=None, ...)"
      ]
     },
     "execution_count": 12,
     "metadata": {},
     "output_type": "execute_result"
    }
   ],
   "source": [
    "m2.fit(X,y,eval_set=[(X,y),(x,Y)])"
   ]
  },
  {
   "cell_type": "code",
   "execution_count": 13,
   "id": "4f32510f",
   "metadata": {
    "execution": {
     "iopub.execute_input": "2024-03-06T22:35:55.639384Z",
     "iopub.status.busy": "2024-03-06T22:35:55.638819Z",
     "iopub.status.idle": "2024-03-06T22:35:55.655785Z",
     "shell.execute_reply": "2024-03-06T22:35:55.654864Z"
    },
    "papermill": {
     "duration": 0.030388,
     "end_time": "2024-03-06T22:35:55.658638",
     "exception": false,
     "start_time": "2024-03-06T22:35:55.628250",
     "status": "completed"
    },
    "tags": []
   },
   "outputs": [
    {
     "data": {
      "text/plain": [
       "0.813953488372093"
      ]
     },
     "execution_count": 13,
     "metadata": {},
     "output_type": "execute_result"
    }
   ],
   "source": [
    "trueval = dfv['Survived']\n",
    "predval = m2.predict(x)\n",
    "accuracy_score(trueval, predval)"
   ]
  },
  {
   "cell_type": "markdown",
   "id": "b5668307",
   "metadata": {
    "papermill": {
     "duration": 0.0086,
     "end_time": "2024-03-06T22:35:55.676879",
     "exception": false,
     "start_time": "2024-03-06T22:35:55.668279",
     "status": "completed"
    },
    "tags": []
   },
   "source": [
    "## Prediction"
   ]
  },
  {
   "cell_type": "markdown",
   "id": "c5aeb4c5",
   "metadata": {
    "papermill": {
     "duration": 0.008506,
     "end_time": "2024-03-06T22:35:55.694429",
     "exception": false,
     "start_time": "2024-03-06T22:35:55.685923",
     "status": "completed"
    },
    "tags": []
   },
   "source": [
    "### Test DF predictions"
   ]
  },
  {
   "cell_type": "code",
   "execution_count": 14,
   "id": "20721647",
   "metadata": {
    "execution": {
     "iopub.execute_input": "2024-03-06T22:35:55.714476Z",
     "iopub.status.busy": "2024-03-06T22:35:55.713707Z",
     "iopub.status.idle": "2024-03-06T22:35:55.726399Z",
     "shell.execute_reply": "2024-03-06T22:35:55.725054Z"
    },
    "papermill": {
     "duration": 0.026107,
     "end_time": "2024-03-06T22:35:55.729413",
     "exception": false,
     "start_time": "2024-03-06T22:35:55.703306",
     "status": "completed"
    },
    "tags": []
   },
   "outputs": [],
   "source": [
    "dftest = pd.read_csv('/kaggle/input/titanic/test.csv')\n",
    "xtest=dftest.drop(['Name','Ticket','Cabin'],axis=1)"
   ]
  },
  {
   "cell_type": "code",
   "execution_count": 15,
   "id": "cab6425a",
   "metadata": {
    "execution": {
     "iopub.execute_input": "2024-03-06T22:35:55.749687Z",
     "iopub.status.busy": "2024-03-06T22:35:55.749305Z",
     "iopub.status.idle": "2024-03-06T22:35:55.763184Z",
     "shell.execute_reply": "2024-03-06T22:35:55.761950Z"
    },
    "papermill": {
     "duration": 0.02821,
     "end_time": "2024-03-06T22:35:55.766609",
     "exception": false,
     "start_time": "2024-03-06T22:35:55.738399",
     "status": "completed"
    },
    "tags": []
   },
   "outputs": [
    {
     "name": "stderr",
     "output_type": "stream",
     "text": [
      "/tmp/ipykernel_18/392077192.py:3: FutureWarning: Downcasting behavior in `replace` is deprecated and will be removed in a future version. To retain the old behavior, explicitly call `result.infer_objects(copy=False)`. To opt-in to the future behavior, set `pd.set_option('future.no_silent_downcasting', True)`\n",
      "  xtest['Sex'] = xtest['Sex'].replace({'male': 0, 'female': 1})\n",
      "/tmp/ipykernel_18/392077192.py:4: FutureWarning: Downcasting behavior in `replace` is deprecated and will be removed in a future version. To retain the old behavior, explicitly call `result.infer_objects(copy=False)`. To opt-in to the future behavior, set `pd.set_option('future.no_silent_downcasting', True)`\n",
      "  xtest['Embarked'] = xtest['Embarked'].replace({'S': 0, 'C': 1,'Q': 2})\n"
     ]
    }
   ],
   "source": [
    "xtest['Embarked'] = xtest['Embarked'].fillna('S')\n",
    "xtest['Age'] = xtest['Age'].fillna(round(xtest.Age.mean()))\n",
    "xtest['Sex'] = xtest['Sex'].replace({'male': 0, 'female': 1})\n",
    "xtest['Embarked'] = xtest['Embarked'].replace({'S': 0, 'C': 1,'Q': 2})\n",
    "xtest['Fare'] = xtest['Fare'].fillna(xtest.Fare.median())"
   ]
  },
  {
   "cell_type": "code",
   "execution_count": 16,
   "id": "3df454fe",
   "metadata": {
    "execution": {
     "iopub.execute_input": "2024-03-06T22:35:55.787241Z",
     "iopub.status.busy": "2024-03-06T22:35:55.786801Z",
     "iopub.status.idle": "2024-03-06T22:35:55.799287Z",
     "shell.execute_reply": "2024-03-06T22:35:55.798370Z"
    },
    "papermill": {
     "duration": 0.026972,
     "end_time": "2024-03-06T22:35:55.802514",
     "exception": false,
     "start_time": "2024-03-06T22:35:55.775542",
     "status": "completed"
    },
    "tags": []
   },
   "outputs": [],
   "source": [
    "dftest['Survived'] = m2.predict(xtest)"
   ]
  },
  {
   "cell_type": "code",
   "execution_count": 17,
   "id": "d1a7b64f",
   "metadata": {
    "execution": {
     "iopub.execute_input": "2024-03-06T22:35:55.824025Z",
     "iopub.status.busy": "2024-03-06T22:35:55.823049Z",
     "iopub.status.idle": "2024-03-06T22:35:55.833265Z",
     "shell.execute_reply": "2024-03-06T22:35:55.832099Z"
    },
    "papermill": {
     "duration": 0.02337,
     "end_time": "2024-03-06T22:35:55.836054",
     "exception": false,
     "start_time": "2024-03-06T22:35:55.812684",
     "status": "completed"
    },
    "tags": []
   },
   "outputs": [],
   "source": [
    "dfexport = dftest[['PassengerId','Survived']]\n",
    "dfexport.to_csv('predictionoutput.csv')"
   ]
  }
 ],
 "metadata": {
  "kaggle": {
   "accelerator": "none",
   "dataSources": [
    {
     "datasetId": 4533762,
     "sourceId": 7753796,
     "sourceType": "datasetVersion"
    }
   ],
   "dockerImageVersionId": 30664,
   "isGpuEnabled": false,
   "isInternetEnabled": true,
   "language": "python",
   "sourceType": "notebook"
  },
  "kernelspec": {
   "display_name": "Python 3",
   "language": "python",
   "name": "python3"
  },
  "language_info": {
   "codemirror_mode": {
    "name": "ipython",
    "version": 3
   },
   "file_extension": ".py",
   "mimetype": "text/x-python",
   "name": "python",
   "nbconvert_exporter": "python",
   "pygments_lexer": "ipython3",
   "version": "3.10.13"
  },
  "papermill": {
   "default_parameters": {},
   "duration": 7.416395,
   "end_time": "2024-03-06T22:35:56.467070",
   "environment_variables": {},
   "exception": null,
   "input_path": "__notebook__.ipynb",
   "output_path": "__notebook__.ipynb",
   "parameters": {},
   "start_time": "2024-03-06T22:35:49.050675",
   "version": "2.5.0"
  }
 },
 "nbformat": 4,
 "nbformat_minor": 5
}
