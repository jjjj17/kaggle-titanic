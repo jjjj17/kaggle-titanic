{
 "cells": [
  {
   "cell_type": "code",
   "execution_count": 1,
   "id": "da1b2388",
   "metadata": {
    "_cell_guid": "b1076dfc-b9ad-4769-8c92-a6c4dae69d19",
    "_uuid": "8f2839f25d086af736a60e9eeb907d3b93b6e0e5",
    "execution": {
     "iopub.execute_input": "2024-03-06T23:39:15.137216Z",
     "iopub.status.busy": "2024-03-06T23:39:15.136762Z",
     "iopub.status.idle": "2024-03-06T23:39:16.043773Z",
     "shell.execute_reply": "2024-03-06T23:39:16.042715Z"
    },
    "papermill": {
     "duration": 0.917085,
     "end_time": "2024-03-06T23:39:16.046215",
     "exception": false,
     "start_time": "2024-03-06T23:39:15.129130",
     "status": "completed"
    },
    "tags": []
   },
   "outputs": [
    {
     "name": "stdout",
     "output_type": "stream",
     "text": [
      "/kaggle/input/titanic/train.csv\n",
      "/kaggle/input/titanic/test.csv\n",
      "/kaggle/input/titanic/gender_submission.csv\n"
     ]
    }
   ],
   "source": [
    "# This Python 3 environment comes with many helpful analytics libraries installed\n",
    "# It is defined by the kaggle/python Docker image: https://github.com/kaggle/docker-python\n",
    "# For example, here's several helpful packages to load\n",
    "\n",
    "import numpy as np # linear algebra\n",
    "import pandas as pd # data processing, CSV file I/O (e.g. pd.read_csv)\n",
    "\n",
    "# Input data files are available in the read-only \"../input/\" directory\n",
    "# For example, running this (by clicking run or pressing Shift+Enter) will list all files under the input directory\n",
    "\n",
    "import os\n",
    "for dirname, _, filenames in os.walk('/kaggle/input'):\n",
    "    for filename in filenames:\n",
    "        print(os.path.join(dirname, filename))\n",
    "\n",
    "# You can write up to 20GB to the current directory (/kaggle/working/) that gets preserved as output when you create a version using \"Save & Run All\" \n",
    "# You can also write temporary files to /kaggle/temp/, but they won't be saved outside of the current session"
   ]
  },
  {
   "cell_type": "code",
   "execution_count": 2,
   "id": "9a7faebd",
   "metadata": {
    "execution": {
     "iopub.execute_input": "2024-03-06T23:39:16.058686Z",
     "iopub.status.busy": "2024-03-06T23:39:16.057661Z",
     "iopub.status.idle": "2024-03-06T23:39:17.913304Z",
     "shell.execute_reply": "2024-03-06T23:39:17.912120Z"
    },
    "papermill": {
     "duration": 1.864625,
     "end_time": "2024-03-06T23:39:17.916022",
     "exception": false,
     "start_time": "2024-03-06T23:39:16.051397",
     "status": "completed"
    },
    "tags": []
   },
   "outputs": [],
   "source": [
    "from sklearn.tree import DecisionTreeClassifier\n",
    "from sklearn import tree\n",
    "from sklearn.metrics import accuracy_score\n",
    "from matplotlib import pyplot as plt\n",
    "import graphviz\n",
    "import xgboost as xgb\n",
    "from sklearn.metrics import mean_absolute_error"
   ]
  },
  {
   "cell_type": "markdown",
   "id": "e6adef83",
   "metadata": {
    "papermill": {
     "duration": 0.00486,
     "end_time": "2024-03-06T23:39:17.926000",
     "exception": false,
     "start_time": "2024-03-06T23:39:17.921140",
     "status": "completed"
    },
    "tags": []
   },
   "source": [
    "## Data Treatment"
   ]
  },
  {
   "cell_type": "code",
   "execution_count": 3,
   "id": "b6660e9b",
   "metadata": {
    "execution": {
     "iopub.execute_input": "2024-03-06T23:39:17.938410Z",
     "iopub.status.busy": "2024-03-06T23:39:17.938043Z",
     "iopub.status.idle": "2024-03-06T23:39:17.964372Z",
     "shell.execute_reply": "2024-03-06T23:39:17.963206Z"
    },
    "papermill": {
     "duration": 0.035404,
     "end_time": "2024-03-06T23:39:17.966916",
     "exception": false,
     "start_time": "2024-03-06T23:39:17.931512",
     "status": "completed"
    },
    "tags": []
   },
   "outputs": [],
   "source": [
    "df = pd.read_csv(\"/kaggle/input/titanic/train.csv\")"
   ]
  },
  {
   "cell_type": "code",
   "execution_count": 4,
   "id": "7231f8b6",
   "metadata": {
    "execution": {
     "iopub.execute_input": "2024-03-06T23:39:17.980340Z",
     "iopub.status.busy": "2024-03-06T23:39:17.979845Z",
     "iopub.status.idle": "2024-03-06T23:39:17.991974Z",
     "shell.execute_reply": "2024-03-06T23:39:17.990594Z"
    },
    "papermill": {
     "duration": 0.020751,
     "end_time": "2024-03-06T23:39:17.994283",
     "exception": false,
     "start_time": "2024-03-06T23:39:17.973532",
     "status": "completed"
    },
    "tags": []
   },
   "outputs": [
    {
     "name": "stdout",
     "output_type": "stream",
     "text": [
      "640 examples in training, 251 examples in testing.\n"
     ]
    }
   ],
   "source": [
    "def split_dataset(dataset, test_ratio=0.28):\n",
    "  test_indices = np.random.rand(len(dataset)) < test_ratio\n",
    "  return dataset[~test_indices], dataset[test_indices]\n",
    "\n",
    "dft, dfv = split_dataset(df)\n",
    "print(\"{} examples in training, {} examples in testing.\".format(\n",
    "    len(dft), len(dfv)))"
   ]
  },
  {
   "cell_type": "code",
   "execution_count": 5,
   "id": "f11e98d7",
   "metadata": {
    "execution": {
     "iopub.execute_input": "2024-03-06T23:39:18.007169Z",
     "iopub.status.busy": "2024-03-06T23:39:18.006482Z",
     "iopub.status.idle": "2024-03-06T23:39:18.018571Z",
     "shell.execute_reply": "2024-03-06T23:39:18.017662Z"
    },
    "papermill": {
     "duration": 0.020997,
     "end_time": "2024-03-06T23:39:18.020969",
     "exception": false,
     "start_time": "2024-03-06T23:39:17.999972",
     "status": "completed"
    },
    "tags": []
   },
   "outputs": [],
   "source": [
    "y= dft['Survived']\n",
    "Y=dfv['Survived']\n",
    "x = dfv.drop(['Survived','Name','Ticket','Cabin'],axis=1)\n",
    "X=dft.drop(['Survived','Name','Ticket','Cabin'],axis=1)"
   ]
  },
  {
   "cell_type": "code",
   "execution_count": 6,
   "id": "2cd0e800",
   "metadata": {
    "execution": {
     "iopub.execute_input": "2024-03-06T23:39:18.033182Z",
     "iopub.status.busy": "2024-03-06T23:39:18.032804Z",
     "iopub.status.idle": "2024-03-06T23:39:18.044124Z",
     "shell.execute_reply": "2024-03-06T23:39:18.043071Z"
    },
    "papermill": {
     "duration": 0.019999,
     "end_time": "2024-03-06T23:39:18.046445",
     "exception": false,
     "start_time": "2024-03-06T23:39:18.026446",
     "status": "completed"
    },
    "tags": []
   },
   "outputs": [
    {
     "name": "stderr",
     "output_type": "stream",
     "text": [
      "/tmp/ipykernel_18/2973458064.py:3: FutureWarning: Downcasting behavior in `replace` is deprecated and will be removed in a future version. To retain the old behavior, explicitly call `result.infer_objects(copy=False)`. To opt-in to the future behavior, set `pd.set_option('future.no_silent_downcasting', True)`\n",
      "  X['Sex'] = X['Sex'].replace({'male': 0, 'female': 1})\n",
      "/tmp/ipykernel_18/2973458064.py:4: FutureWarning: Downcasting behavior in `replace` is deprecated and will be removed in a future version. To retain the old behavior, explicitly call `result.infer_objects(copy=False)`. To opt-in to the future behavior, set `pd.set_option('future.no_silent_downcasting', True)`\n",
      "  X['Embarked'] = X['Embarked'].replace({'S': 0, 'C': 1,'Q': 2})\n"
     ]
    }
   ],
   "source": [
    "X['Embarked'] = X['Embarked'].fillna('S')\n",
    "X['Age'] = X['Age'].fillna(round(df.Age.mean()))\n",
    "X['Sex'] = X['Sex'].replace({'male': 0, 'female': 1})\n",
    "X['Embarked'] = X['Embarked'].replace({'S': 0, 'C': 1,'Q': 2})"
   ]
  },
  {
   "cell_type": "code",
   "execution_count": 7,
   "id": "b2d25da9",
   "metadata": {
    "execution": {
     "iopub.execute_input": "2024-03-06T23:39:18.059265Z",
     "iopub.status.busy": "2024-03-06T23:39:18.058258Z",
     "iopub.status.idle": "2024-03-06T23:39:18.068126Z",
     "shell.execute_reply": "2024-03-06T23:39:18.067065Z"
    },
    "papermill": {
     "duration": 0.01853,
     "end_time": "2024-03-06T23:39:18.070289",
     "exception": false,
     "start_time": "2024-03-06T23:39:18.051759",
     "status": "completed"
    },
    "tags": []
   },
   "outputs": [
    {
     "name": "stderr",
     "output_type": "stream",
     "text": [
      "/tmp/ipykernel_18/1346004681.py:3: FutureWarning: Downcasting behavior in `replace` is deprecated and will be removed in a future version. To retain the old behavior, explicitly call `result.infer_objects(copy=False)`. To opt-in to the future behavior, set `pd.set_option('future.no_silent_downcasting', True)`\n",
      "  x['Sex'] = x['Sex'].replace({'male': 0, 'female': 1})\n",
      "/tmp/ipykernel_18/1346004681.py:4: FutureWarning: Downcasting behavior in `replace` is deprecated and will be removed in a future version. To retain the old behavior, explicitly call `result.infer_objects(copy=False)`. To opt-in to the future behavior, set `pd.set_option('future.no_silent_downcasting', True)`\n",
      "  x['Embarked'] = x['Embarked'].replace({'S': 0, 'C': 1,'Q': 2})\n"
     ]
    }
   ],
   "source": [
    "x['Embarked'] = x['Embarked'].fillna('S')\n",
    "x['Age'] = x['Age'].fillna(round(df.Age.mean()))\n",
    "x['Sex'] = x['Sex'].replace({'male': 0, 'female': 1})\n",
    "x['Embarked'] = x['Embarked'].replace({'S': 0, 'C': 1,'Q': 2})"
   ]
  },
  {
   "cell_type": "markdown",
   "id": "a00b8253",
   "metadata": {
    "papermill": {
     "duration": 0.005013,
     "end_time": "2024-03-06T23:39:18.080692",
     "exception": false,
     "start_time": "2024-03-06T23:39:18.075679",
     "status": "completed"
    },
    "tags": []
   },
   "source": [
    "## Modeling"
   ]
  },
  {
   "cell_type": "markdown",
   "id": "2f8b6b46",
   "metadata": {
    "papermill": {
     "duration": 0.004929,
     "end_time": "2024-03-06T23:39:18.090908",
     "exception": false,
     "start_time": "2024-03-06T23:39:18.085979",
     "status": "completed"
    },
    "tags": []
   },
   "source": [
    "### Decision Tree Classifier"
   ]
  },
  {
   "cell_type": "code",
   "execution_count": 8,
   "id": "36ac00c3",
   "metadata": {
    "execution": {
     "iopub.execute_input": "2024-03-06T23:39:18.104322Z",
     "iopub.status.busy": "2024-03-06T23:39:18.103934Z",
     "iopub.status.idle": "2024-03-06T23:39:18.108347Z",
     "shell.execute_reply": "2024-03-06T23:39:18.107276Z"
    },
    "papermill": {
     "duration": 0.015862,
     "end_time": "2024-03-06T23:39:18.111936",
     "exception": false,
     "start_time": "2024-03-06T23:39:18.096074",
     "status": "completed"
    },
    "tags": []
   },
   "outputs": [],
   "source": [
    "model=DecisionTreeClassifier(max_depth=5)"
   ]
  },
  {
   "cell_type": "code",
   "execution_count": 9,
   "id": "62d8790a",
   "metadata": {
    "execution": {
     "iopub.execute_input": "2024-03-06T23:39:18.125561Z",
     "iopub.status.busy": "2024-03-06T23:39:18.125125Z",
     "iopub.status.idle": "2024-03-06T23:39:18.141643Z",
     "shell.execute_reply": "2024-03-06T23:39:18.140461Z"
    },
    "papermill": {
     "duration": 0.026211,
     "end_time": "2024-03-06T23:39:18.143780",
     "exception": false,
     "start_time": "2024-03-06T23:39:18.117569",
     "status": "completed"
    },
    "tags": []
   },
   "outputs": [
    {
     "data": {
      "text/html": [
       "<style>#sk-container-id-1 {color: black;background-color: white;}#sk-container-id-1 pre{padding: 0;}#sk-container-id-1 div.sk-toggleable {background-color: white;}#sk-container-id-1 label.sk-toggleable__label {cursor: pointer;display: block;width: 100%;margin-bottom: 0;padding: 0.3em;box-sizing: border-box;text-align: center;}#sk-container-id-1 label.sk-toggleable__label-arrow:before {content: \"▸\";float: left;margin-right: 0.25em;color: #696969;}#sk-container-id-1 label.sk-toggleable__label-arrow:hover:before {color: black;}#sk-container-id-1 div.sk-estimator:hover label.sk-toggleable__label-arrow:before {color: black;}#sk-container-id-1 div.sk-toggleable__content {max-height: 0;max-width: 0;overflow: hidden;text-align: left;background-color: #f0f8ff;}#sk-container-id-1 div.sk-toggleable__content pre {margin: 0.2em;color: black;border-radius: 0.25em;background-color: #f0f8ff;}#sk-container-id-1 input.sk-toggleable__control:checked~div.sk-toggleable__content {max-height: 200px;max-width: 100%;overflow: auto;}#sk-container-id-1 input.sk-toggleable__control:checked~label.sk-toggleable__label-arrow:before {content: \"▾\";}#sk-container-id-1 div.sk-estimator input.sk-toggleable__control:checked~label.sk-toggleable__label {background-color: #d4ebff;}#sk-container-id-1 div.sk-label input.sk-toggleable__control:checked~label.sk-toggleable__label {background-color: #d4ebff;}#sk-container-id-1 input.sk-hidden--visually {border: 0;clip: rect(1px 1px 1px 1px);clip: rect(1px, 1px, 1px, 1px);height: 1px;margin: -1px;overflow: hidden;padding: 0;position: absolute;width: 1px;}#sk-container-id-1 div.sk-estimator {font-family: monospace;background-color: #f0f8ff;border: 1px dotted black;border-radius: 0.25em;box-sizing: border-box;margin-bottom: 0.5em;}#sk-container-id-1 div.sk-estimator:hover {background-color: #d4ebff;}#sk-container-id-1 div.sk-parallel-item::after {content: \"\";width: 100%;border-bottom: 1px solid gray;flex-grow: 1;}#sk-container-id-1 div.sk-label:hover label.sk-toggleable__label {background-color: #d4ebff;}#sk-container-id-1 div.sk-serial::before {content: \"\";position: absolute;border-left: 1px solid gray;box-sizing: border-box;top: 0;bottom: 0;left: 50%;z-index: 0;}#sk-container-id-1 div.sk-serial {display: flex;flex-direction: column;align-items: center;background-color: white;padding-right: 0.2em;padding-left: 0.2em;position: relative;}#sk-container-id-1 div.sk-item {position: relative;z-index: 1;}#sk-container-id-1 div.sk-parallel {display: flex;align-items: stretch;justify-content: center;background-color: white;position: relative;}#sk-container-id-1 div.sk-item::before, #sk-container-id-1 div.sk-parallel-item::before {content: \"\";position: absolute;border-left: 1px solid gray;box-sizing: border-box;top: 0;bottom: 0;left: 50%;z-index: -1;}#sk-container-id-1 div.sk-parallel-item {display: flex;flex-direction: column;z-index: 1;position: relative;background-color: white;}#sk-container-id-1 div.sk-parallel-item:first-child::after {align-self: flex-end;width: 50%;}#sk-container-id-1 div.sk-parallel-item:last-child::after {align-self: flex-start;width: 50%;}#sk-container-id-1 div.sk-parallel-item:only-child::after {width: 0;}#sk-container-id-1 div.sk-dashed-wrapped {border: 1px dashed gray;margin: 0 0.4em 0.5em 0.4em;box-sizing: border-box;padding-bottom: 0.4em;background-color: white;}#sk-container-id-1 div.sk-label label {font-family: monospace;font-weight: bold;display: inline-block;line-height: 1.2em;}#sk-container-id-1 div.sk-label-container {text-align: center;}#sk-container-id-1 div.sk-container {/* jupyter's `normalize.less` sets `[hidden] { display: none; }` but bootstrap.min.css set `[hidden] { display: none !important; }` so we also need the `!important` here to be able to override the default hidden behavior on the sphinx rendered scikit-learn.org. See: https://github.com/scikit-learn/scikit-learn/issues/21755 */display: inline-block !important;position: relative;}#sk-container-id-1 div.sk-text-repr-fallback {display: none;}</style><div id=\"sk-container-id-1\" class=\"sk-top-container\"><div class=\"sk-text-repr-fallback\"><pre>DecisionTreeClassifier(max_depth=5)</pre><b>In a Jupyter environment, please rerun this cell to show the HTML representation or trust the notebook. <br />On GitHub, the HTML representation is unable to render, please try loading this page with nbviewer.org.</b></div><div class=\"sk-container\" hidden><div class=\"sk-item\"><div class=\"sk-estimator sk-toggleable\"><input class=\"sk-toggleable__control sk-hidden--visually\" id=\"sk-estimator-id-1\" type=\"checkbox\" checked><label for=\"sk-estimator-id-1\" class=\"sk-toggleable__label sk-toggleable__label-arrow\">DecisionTreeClassifier</label><div class=\"sk-toggleable__content\"><pre>DecisionTreeClassifier(max_depth=5)</pre></div></div></div></div></div>"
      ],
      "text/plain": [
       "DecisionTreeClassifier(max_depth=5)"
      ]
     },
     "execution_count": 9,
     "metadata": {},
     "output_type": "execute_result"
    }
   ],
   "source": [
    "model.fit(X,y)"
   ]
  },
  {
   "cell_type": "code",
   "execution_count": 10,
   "id": "c9de51aa",
   "metadata": {
    "execution": {
     "iopub.execute_input": "2024-03-06T23:39:18.157445Z",
     "iopub.status.busy": "2024-03-06T23:39:18.156836Z",
     "iopub.status.idle": "2024-03-06T23:39:18.165377Z",
     "shell.execute_reply": "2024-03-06T23:39:18.164640Z"
    },
    "papermill": {
     "duration": 0.017639,
     "end_time": "2024-03-06T23:39:18.167246",
     "exception": false,
     "start_time": "2024-03-06T23:39:18.149607",
     "status": "completed"
    },
    "tags": []
   },
   "outputs": [
    {
     "data": {
      "text/plain": [
       "0.7928286852589641"
      ]
     },
     "execution_count": 10,
     "metadata": {},
     "output_type": "execute_result"
    }
   ],
   "source": [
    "trueval = dfv['Survived']\n",
    "predval = model.predict(x)\n",
    "accuracy_score(trueval, predval)"
   ]
  },
  {
   "cell_type": "markdown",
   "id": "ac4e1dfb",
   "metadata": {
    "papermill": {
     "duration": 0.005671,
     "end_time": "2024-03-06T23:39:18.178881",
     "exception": false,
     "start_time": "2024-03-06T23:39:18.173210",
     "status": "completed"
    },
    "tags": []
   },
   "source": [
    "### XG Boost Random Forest Classifier"
   ]
  },
  {
   "cell_type": "markdown",
   "id": "ec63ae2e",
   "metadata": {
    "papermill": {
     "duration": 0.005683,
     "end_time": "2024-03-06T23:39:18.190469",
     "exception": false,
     "start_time": "2024-03-06T23:39:18.184786",
     "status": "completed"
    },
    "tags": []
   },
   "source": [
    "### First Hyperparameter tuning"
   ]
  },
  {
   "cell_type": "code",
   "execution_count": 11,
   "id": "fd891e37",
   "metadata": {
    "execution": {
     "iopub.execute_input": "2024-03-06T23:39:18.206522Z",
     "iopub.status.busy": "2024-03-06T23:39:18.205881Z",
     "iopub.status.idle": "2024-03-06T23:39:20.301127Z",
     "shell.execute_reply": "2024-03-06T23:39:20.299988Z"
    },
    "papermill": {
     "duration": 2.105962,
     "end_time": "2024-03-06T23:39:20.303608",
     "exception": false,
     "start_time": "2024-03-06T23:39:18.197646",
     "status": "completed"
    },
    "tags": []
   },
   "outputs": [
    {
     "name": "stderr",
     "output_type": "stream",
     "text": [
      "[I 2024-03-06 23:39:19,578] A new study created in memory with name: no-name-80d8c070-8030-4ef0-989b-97a187f1e5c8\n",
      "/opt/conda/lib/python3.10/site-packages/xgboost/core.py:160: UserWarning: [23:39:19] WARNING: /workspace/src/learner.cc:742: \n",
      "Parameters: { \"n_estimators\" } are not used.\n",
      "\n",
      "  warnings.warn(smsg, UserWarning)\n",
      "[I 2024-03-06 23:39:19,629] Trial 0 finished with value: 0.601593625498008 and parameters: {'booster': 'dart', 'gamma': 1.569621505929269e-07, 'max_depth': 11, 'n_estimators': 43, 'grow_policy': 'lossguide', 'learning_rate': 2.036771780336469e-08}. Best is trial 0 with value: 0.601593625498008.\n",
      "/opt/conda/lib/python3.10/site-packages/xgboost/core.py:160: UserWarning: [23:39:19] WARNING: /workspace/src/learner.cc:742: \n",
      "Parameters: { \"gamma\", \"grow_policy\", \"max_depth\", \"max_leaves\", \"n_estimators\" } are not used.\n",
      "\n",
      "  warnings.warn(smsg, UserWarning)\n",
      "[I 2024-03-06 23:39:19,642] Trial 1 finished with value: 0.601593625498008 and parameters: {'booster': 'gblinear', 'gamma': 1.685004264610115e-08, 'max_depth': 12, 'n_estimators': 10, 'grow_policy': 'lossguide', 'learning_rate': 0.007909987241116639}. Best is trial 0 with value: 0.601593625498008.\n",
      "/opt/conda/lib/python3.10/site-packages/xgboost/core.py:160: UserWarning: [23:39:19] WARNING: /workspace/src/learner.cc:742: \n",
      "Parameters: { \"n_estimators\" } are not used.\n",
      "\n",
      "  warnings.warn(smsg, UserWarning)\n",
      "[I 2024-03-06 23:39:19,669] Trial 2 finished with value: 0.601593625498008 and parameters: {'booster': 'dart', 'gamma': 0.006177397605578845, 'max_depth': 49, 'n_estimators': 69, 'grow_policy': 'depthwise', 'learning_rate': 0.02081653598874991}. Best is trial 0 with value: 0.601593625498008.\n",
      "/opt/conda/lib/python3.10/site-packages/xgboost/core.py:160: UserWarning: [23:39:19] WARNING: /workspace/src/learner.cc:742: \n",
      "Parameters: { \"n_estimators\" } are not used.\n",
      "\n",
      "  warnings.warn(smsg, UserWarning)\n",
      "[I 2024-03-06 23:39:19,685] Trial 3 finished with value: 0.7928286852589641 and parameters: {'booster': 'dart', 'gamma': 4.708848307392421e-07, 'max_depth': 7, 'n_estimators': 2, 'grow_policy': 'depthwise', 'learning_rate': 0.02544304832790105}. Best is trial 3 with value: 0.7928286852589641.\n",
      "/opt/conda/lib/python3.10/site-packages/xgboost/core.py:160: UserWarning: [23:39:19] WARNING: /workspace/src/learner.cc:742: \n",
      "Parameters: { \"gamma\", \"grow_policy\", \"max_depth\", \"max_leaves\", \"n_estimators\" } are not used.\n",
      "\n",
      "  warnings.warn(smsg, UserWarning)\n",
      "[I 2024-03-06 23:39:19,697] Trial 4 finished with value: 0.601593625498008 and parameters: {'booster': 'gblinear', 'gamma': 0.002105252536379335, 'max_depth': 12, 'n_estimators': 93, 'grow_policy': 'lossguide', 'learning_rate': 0.004830618900749759}. Best is trial 3 with value: 0.7928286852589641.\n",
      "/opt/conda/lib/python3.10/site-packages/xgboost/core.py:160: UserWarning: [23:39:19] WARNING: /workspace/src/learner.cc:742: \n",
      "Parameters: { \"n_estimators\" } are not used.\n",
      "\n",
      "  warnings.warn(smsg, UserWarning)\n",
      "[I 2024-03-06 23:39:19,713] Trial 5 finished with value: 0.8207171314741036 and parameters: {'booster': 'dart', 'gamma': 2.105016836161416e-06, 'max_depth': 13, 'n_estimators': 21, 'grow_policy': 'depthwise', 'learning_rate': 0.603110659280101}. Best is trial 5 with value: 0.8207171314741036.\n",
      "/opt/conda/lib/python3.10/site-packages/xgboost/core.py:160: UserWarning: [23:39:19] WARNING: /workspace/src/learner.cc:742: \n",
      "Parameters: { \"n_estimators\" } are not used.\n",
      "\n",
      "  warnings.warn(smsg, UserWarning)\n",
      "[I 2024-03-06 23:39:19,735] Trial 6 finished with value: 0.601593625498008 and parameters: {'booster': 'gbtree', 'gamma': 1.2130678601181557e-05, 'max_depth': 53, 'n_estimators': 60, 'grow_policy': 'lossguide', 'learning_rate': 0.00013805587765319095}. Best is trial 5 with value: 0.8207171314741036.\n",
      "/opt/conda/lib/python3.10/site-packages/xgboost/core.py:160: UserWarning: [23:39:19] WARNING: /workspace/src/learner.cc:742: \n",
      "Parameters: { \"gamma\", \"grow_policy\", \"max_depth\", \"max_leaves\", \"n_estimators\" } are not used.\n",
      "\n",
      "  warnings.warn(smsg, UserWarning)\n",
      "[I 2024-03-06 23:39:19,745] Trial 7 finished with value: 0.601593625498008 and parameters: {'booster': 'gblinear', 'gamma': 3.3910307631335616e-08, 'max_depth': 59, 'n_estimators': 51, 'grow_policy': 'lossguide', 'learning_rate': 0.006229374188855854}. Best is trial 5 with value: 0.8207171314741036.\n",
      "/opt/conda/lib/python3.10/site-packages/xgboost/core.py:160: UserWarning: [23:39:19] WARNING: /workspace/src/learner.cc:742: \n",
      "Parameters: { \"gamma\", \"grow_policy\", \"max_depth\", \"max_leaves\", \"n_estimators\" } are not used.\n",
      "\n",
      "  warnings.warn(smsg, UserWarning)\n",
      "[I 2024-03-06 23:39:19,755] Trial 8 finished with value: 0.7051792828685259 and parameters: {'booster': 'gblinear', 'gamma': 0.14594507486737826, 'max_depth': 96, 'n_estimators': 55, 'grow_policy': 'lossguide', 'learning_rate': 0.05250282152769641}. Best is trial 5 with value: 0.8207171314741036.\n",
      "/opt/conda/lib/python3.10/site-packages/xgboost/core.py:160: UserWarning: [23:39:19] WARNING: /workspace/src/learner.cc:742: \n",
      "Parameters: { \"gamma\", \"grow_policy\", \"max_depth\", \"max_leaves\", \"n_estimators\" } are not used.\n",
      "\n",
      "  warnings.warn(smsg, UserWarning)\n",
      "[I 2024-03-06 23:39:19,764] Trial 9 finished with value: 0.8247011952191236 and parameters: {'booster': 'gblinear', 'gamma': 0.02269842363768289, 'max_depth': 95, 'n_estimators': 46, 'grow_policy': 'lossguide', 'learning_rate': 0.3580575091882154}. Best is trial 9 with value: 0.8247011952191236.\n",
      "/opt/conda/lib/python3.10/site-packages/xgboost/core.py:160: UserWarning: [23:39:19] WARNING: /workspace/src/learner.cc:742: \n",
      "Parameters: { \"n_estimators\" } are not used.\n",
      "\n",
      "  warnings.warn(smsg, UserWarning)\n",
      "[I 2024-03-06 23:39:19,907] Trial 10 finished with value: 0.601593625498008 and parameters: {'booster': 'gbtree', 'gamma': 0.5118422655879091, 'max_depth': 92, 'n_estimators': 29, 'grow_policy': 'depthwise', 'learning_rate': 1.133795777818308e-07}. Best is trial 9 with value: 0.8247011952191236.\n",
      "/opt/conda/lib/python3.10/site-packages/xgboost/core.py:160: UserWarning: [23:39:19] WARNING: /workspace/src/learner.cc:742: \n",
      "Parameters: { \"n_estimators\" } are not used.\n",
      "\n",
      "  warnings.warn(smsg, UserWarning)\n",
      "[I 2024-03-06 23:39:19,954] Trial 11 finished with value: 0.8207171314741036 and parameters: {'booster': 'dart', 'gamma': 2.509206978429854e-05, 'max_depth': 37, 'n_estimators': 24, 'grow_policy': 'depthwise', 'learning_rate': 0.3949744553875426}. Best is trial 9 with value: 0.8247011952191236.\n",
      "/opt/conda/lib/python3.10/site-packages/xgboost/core.py:160: UserWarning: [23:39:19] WARNING: /workspace/src/learner.cc:742: \n",
      "Parameters: { \"n_estimators\" } are not used.\n",
      "\n",
      "  warnings.warn(smsg, UserWarning)\n",
      "[I 2024-03-06 23:39:20,002] Trial 12 finished with value: 0.8167330677290837 and parameters: {'booster': 'dart', 'gamma': 0.0007526207185635555, 'max_depth': 81, 'n_estimators': 30, 'grow_policy': 'depthwise', 'learning_rate': 0.888468451779326}. Best is trial 9 with value: 0.8247011952191236.\n",
      "/opt/conda/lib/python3.10/site-packages/xgboost/core.py:160: UserWarning: [23:39:20] WARNING: /workspace/src/learner.cc:742: \n",
      "Parameters: { \"gamma\", \"grow_policy\", \"max_depth\", \"max_leaves\", \"n_estimators\" } are not used.\n",
      "\n",
      "  warnings.warn(smsg, UserWarning)\n",
      "[I 2024-03-06 23:39:20,034] Trial 13 finished with value: 0.601593625498008 and parameters: {'booster': 'gblinear', 'gamma': 1.6357472461872099e-06, 'max_depth': 31, 'n_estimators': 76, 'grow_policy': 'depthwise', 'learning_rate': 7.454342086585056e-05}. Best is trial 9 with value: 0.8247011952191236.\n",
      "/opt/conda/lib/python3.10/site-packages/xgboost/core.py:160: UserWarning: [23:39:20] WARNING: /workspace/src/learner.cc:742: \n",
      "Parameters: { \"n_estimators\" } are not used.\n",
      "\n",
      "  warnings.warn(smsg, UserWarning)\n",
      "[I 2024-03-06 23:39:20,081] Trial 14 finished with value: 0.601593625498008 and parameters: {'booster': 'gbtree', 'gamma': 0.03836054109371363, 'max_depth': 73, 'n_estimators': 38, 'grow_policy': 'lossguide', 'learning_rate': 0.0001707034216243539}. Best is trial 9 with value: 0.8247011952191236.\n",
      "/opt/conda/lib/python3.10/site-packages/xgboost/core.py:160: UserWarning: [23:39:20] WARNING: /workspace/src/learner.cc:742: \n",
      "Parameters: { \"gamma\", \"grow_policy\", \"max_depth\", \"max_leaves\", \"n_estimators\" } are not used.\n",
      "\n",
      "  warnings.warn(smsg, UserWarning)\n",
      "[I 2024-03-06 23:39:20,115] Trial 15 finished with value: 0.601593625498008 and parameters: {'booster': 'gblinear', 'gamma': 0.0001381140898976017, 'max_depth': 28, 'n_estimators': 13, 'grow_policy': 'depthwise', 'learning_rate': 2.8217339891439634e-06}. Best is trial 9 with value: 0.8247011952191236.\n",
      "/opt/conda/lib/python3.10/site-packages/xgboost/core.py:160: UserWarning: [23:39:20] WARNING: /workspace/src/learner.cc:742: \n",
      "Parameters: { \"n_estimators\" } are not used.\n",
      "\n",
      "  warnings.warn(smsg, UserWarning)\n",
      "[I 2024-03-06 23:39:20,163] Trial 16 finished with value: 0.8247011952191236 and parameters: {'booster': 'dart', 'gamma': 3.0867092404869182e-06, 'max_depth': 68, 'n_estimators': 20, 'grow_policy': 'depthwise', 'learning_rate': 0.3702434279853099}. Best is trial 9 with value: 0.8247011952191236.\n",
      "/opt/conda/lib/python3.10/site-packages/xgboost/core.py:160: UserWarning: [23:39:20] WARNING: /workspace/src/learner.cc:742: \n",
      "Parameters: { \"gamma\", \"grow_policy\", \"max_depth\", \"max_leaves\", \"n_estimators\" } are not used.\n",
      "\n",
      "  warnings.warn(smsg, UserWarning)\n",
      "[I 2024-03-06 23:39:20,198] Trial 17 finished with value: 0.601593625498008 and parameters: {'booster': 'gblinear', 'gamma': 0.00028542767537236447, 'max_depth': 75, 'n_estimators': 41, 'grow_policy': 'lossguide', 'learning_rate': 0.0006048820627326629}. Best is trial 9 with value: 0.8247011952191236.\n",
      "/opt/conda/lib/python3.10/site-packages/xgboost/core.py:160: UserWarning: [23:39:20] WARNING: /workspace/src/learner.cc:742: \n",
      "Parameters: { \"n_estimators\" } are not used.\n",
      "\n",
      "  warnings.warn(smsg, UserWarning)\n",
      "[I 2024-03-06 23:39:20,256] Trial 18 finished with value: 0.8047808764940239 and parameters: {'booster': 'dart', 'gamma': 2.303893681578501e-05, 'max_depth': 86, 'n_estimators': 82, 'grow_policy': 'lossguide', 'learning_rate': 0.11165349477003206}. Best is trial 9 with value: 0.8247011952191236.\n",
      "/opt/conda/lib/python3.10/site-packages/xgboost/core.py:160: UserWarning: [23:39:20] WARNING: /workspace/src/learner.cc:742: \n",
      "Parameters: { \"n_estimators\" } are not used.\n",
      "\n",
      "  warnings.warn(smsg, UserWarning)\n",
      "[I 2024-03-06 23:39:20,296] Trial 19 finished with value: 0.601593625498008 and parameters: {'booster': 'gbtree', 'gamma': 0.037417417699576655, 'max_depth': 66, 'n_estimators': 64, 'grow_policy': 'depthwise', 'learning_rate': 8.973033938413703e-06}. Best is trial 9 with value: 0.8247011952191236.\n"
     ]
    }
   ],
   "source": [
    "import optuna\n",
    "import sklearn.metrics\n",
    "\n",
    "\n",
    "dtrain = xgb.DMatrix(X, label=dft['Survived'])\n",
    "dvalid = xgb.DMatrix(x, label=dfv['Survived'])\n",
    "\n",
    "def objective(trial):\n",
    "    optuna.logging.set_verbosity(optuna.logging.DEBUG)\n",
    "    param = {\n",
    "        'objective': 'binary:logistic',\n",
    "        'booster': trial.suggest_categorical('booster', ['gbtree', 'gblinear', 'dart']),\n",
    "        'gamma': trial.suggest_float('gamma', 1e-8, 1.0, log=True),\n",
    "        'max_depth': trial.suggest_int('max_depth',1, 100),\n",
    "        'max_leaves': trial.suggest_int('max_depth',1, 100),\n",
    "        'n_estimators': trial.suggest_int('n_estimators',1, 100),\n",
    "        'grow_policy': trial.suggest_categorical('grow_policy', ['depthwise', 'lossguide']),\n",
    "        'learning_rate': trial.suggest_float('learning_rate', 1e-8, 1.0, log=True)\n",
    "    }    \n",
    "    bst = xgb.train(param, dtrain)\n",
    "    preds = bst.predict(dvalid)\n",
    "    pred_labels = np.rint(preds)\n",
    "    accuracy = sklearn.metrics.accuracy_score(dfv['Survived'], pred_labels)\n",
    "    return accuracy\n",
    "\n",
    "study = optuna.create_study(direction='maximize')\n",
    "study.optimize(objective, n_trials=20)"
   ]
  },
  {
   "cell_type": "code",
   "execution_count": 12,
   "id": "071f10a2",
   "metadata": {
    "execution": {
     "iopub.execute_input": "2024-03-06T23:39:20.321590Z",
     "iopub.status.busy": "2024-03-06T23:39:20.321216Z",
     "iopub.status.idle": "2024-03-06T23:39:20.325859Z",
     "shell.execute_reply": "2024-03-06T23:39:20.325055Z"
    },
    "papermill": {
     "duration": 0.016281,
     "end_time": "2024-03-06T23:39:20.327845",
     "exception": false,
     "start_time": "2024-03-06T23:39:20.311564",
     "status": "completed"
    },
    "tags": []
   },
   "outputs": [],
   "source": [
    "m2 = xgb.XGBRFClassifier(\n",
    "    booster='gbtree',\n",
    "    device='cpu',\n",
    "    eval_metric=mean_absolute_error,\n",
    "    grow_policy = 'lossguide',\n",
    "    gamma = 2.074237418451085e-08,\n",
    "    max_depth= 52,\n",
    "    n_estimators = 56,\n",
    "    learning_rate = 0.3010386961800788\n",
    ")"
   ]
  },
  {
   "cell_type": "code",
   "execution_count": 13,
   "id": "de26162b",
   "metadata": {
    "execution": {
     "iopub.execute_input": "2024-03-06T23:39:20.345771Z",
     "iopub.status.busy": "2024-03-06T23:39:20.344914Z",
     "iopub.status.idle": "2024-03-06T23:39:20.507698Z",
     "shell.execute_reply": "2024-03-06T23:39:20.506829Z"
    },
    "papermill": {
     "duration": 0.173996,
     "end_time": "2024-03-06T23:39:20.509672",
     "exception": false,
     "start_time": "2024-03-06T23:39:20.335676",
     "status": "completed"
    },
    "tags": []
   },
   "outputs": [
    {
     "name": "stdout",
     "output_type": "stream",
     "text": [
      "[0]\tvalidation_0-logloss:0.50099\tvalidation_0-mean_absolute_error:0.38328\tvalidation_1-logloss:0.55090\tvalidation_1-mean_absolute_error:0.40782\n"
     ]
    },
    {
     "data": {
      "text/html": [
       "<style>#sk-container-id-2 {color: black;background-color: white;}#sk-container-id-2 pre{padding: 0;}#sk-container-id-2 div.sk-toggleable {background-color: white;}#sk-container-id-2 label.sk-toggleable__label {cursor: pointer;display: block;width: 100%;margin-bottom: 0;padding: 0.3em;box-sizing: border-box;text-align: center;}#sk-container-id-2 label.sk-toggleable__label-arrow:before {content: \"▸\";float: left;margin-right: 0.25em;color: #696969;}#sk-container-id-2 label.sk-toggleable__label-arrow:hover:before {color: black;}#sk-container-id-2 div.sk-estimator:hover label.sk-toggleable__label-arrow:before {color: black;}#sk-container-id-2 div.sk-toggleable__content {max-height: 0;max-width: 0;overflow: hidden;text-align: left;background-color: #f0f8ff;}#sk-container-id-2 div.sk-toggleable__content pre {margin: 0.2em;color: black;border-radius: 0.25em;background-color: #f0f8ff;}#sk-container-id-2 input.sk-toggleable__control:checked~div.sk-toggleable__content {max-height: 200px;max-width: 100%;overflow: auto;}#sk-container-id-2 input.sk-toggleable__control:checked~label.sk-toggleable__label-arrow:before {content: \"▾\";}#sk-container-id-2 div.sk-estimator input.sk-toggleable__control:checked~label.sk-toggleable__label {background-color: #d4ebff;}#sk-container-id-2 div.sk-label input.sk-toggleable__control:checked~label.sk-toggleable__label {background-color: #d4ebff;}#sk-container-id-2 input.sk-hidden--visually {border: 0;clip: rect(1px 1px 1px 1px);clip: rect(1px, 1px, 1px, 1px);height: 1px;margin: -1px;overflow: hidden;padding: 0;position: absolute;width: 1px;}#sk-container-id-2 div.sk-estimator {font-family: monospace;background-color: #f0f8ff;border: 1px dotted black;border-radius: 0.25em;box-sizing: border-box;margin-bottom: 0.5em;}#sk-container-id-2 div.sk-estimator:hover {background-color: #d4ebff;}#sk-container-id-2 div.sk-parallel-item::after {content: \"\";width: 100%;border-bottom: 1px solid gray;flex-grow: 1;}#sk-container-id-2 div.sk-label:hover label.sk-toggleable__label {background-color: #d4ebff;}#sk-container-id-2 div.sk-serial::before {content: \"\";position: absolute;border-left: 1px solid gray;box-sizing: border-box;top: 0;bottom: 0;left: 50%;z-index: 0;}#sk-container-id-2 div.sk-serial {display: flex;flex-direction: column;align-items: center;background-color: white;padding-right: 0.2em;padding-left: 0.2em;position: relative;}#sk-container-id-2 div.sk-item {position: relative;z-index: 1;}#sk-container-id-2 div.sk-parallel {display: flex;align-items: stretch;justify-content: center;background-color: white;position: relative;}#sk-container-id-2 div.sk-item::before, #sk-container-id-2 div.sk-parallel-item::before {content: \"\";position: absolute;border-left: 1px solid gray;box-sizing: border-box;top: 0;bottom: 0;left: 50%;z-index: -1;}#sk-container-id-2 div.sk-parallel-item {display: flex;flex-direction: column;z-index: 1;position: relative;background-color: white;}#sk-container-id-2 div.sk-parallel-item:first-child::after {align-self: flex-end;width: 50%;}#sk-container-id-2 div.sk-parallel-item:last-child::after {align-self: flex-start;width: 50%;}#sk-container-id-2 div.sk-parallel-item:only-child::after {width: 0;}#sk-container-id-2 div.sk-dashed-wrapped {border: 1px dashed gray;margin: 0 0.4em 0.5em 0.4em;box-sizing: border-box;padding-bottom: 0.4em;background-color: white;}#sk-container-id-2 div.sk-label label {font-family: monospace;font-weight: bold;display: inline-block;line-height: 1.2em;}#sk-container-id-2 div.sk-label-container {text-align: center;}#sk-container-id-2 div.sk-container {/* jupyter's `normalize.less` sets `[hidden] { display: none; }` but bootstrap.min.css set `[hidden] { display: none !important; }` so we also need the `!important` here to be able to override the default hidden behavior on the sphinx rendered scikit-learn.org. See: https://github.com/scikit-learn/scikit-learn/issues/21755 */display: inline-block !important;position: relative;}#sk-container-id-2 div.sk-text-repr-fallback {display: none;}</style><div id=\"sk-container-id-2\" class=\"sk-top-container\"><div class=\"sk-text-repr-fallback\"><pre>XGBRFClassifier(base_score=None, booster=&#x27;gbtree&#x27;, callbacks=None,\n",
       "                colsample_bylevel=None, colsample_bytree=None, device=&#x27;cpu&#x27;,\n",
       "                early_stopping_rounds=None, enable_categorical=False,\n",
       "                eval_metric=&lt;function mean_absolute_error at 0x79c1fff28b80&gt;,\n",
       "                feature_types=None, gamma=2.074237418451085e-08,\n",
       "                grow_policy=&#x27;lossguide&#x27;, importance_type=None,\n",
       "                interaction_constraints=None, learning_rate=0.3010386961800788,\n",
       "                max_bin=None, max_cat_threshold=None, max_cat_to_onehot=None,\n",
       "                max_delta_step=None, max_depth=52, max_leaves=None,\n",
       "                min_child_weight=None, missing=nan, monotone_constraints=None,\n",
       "                multi_strategy=None, n_estimators=56, n_jobs=None,\n",
       "                num_parallel_tree=None, objective=&#x27;binary:logistic&#x27;,\n",
       "                random_state=None, ...)</pre><b>In a Jupyter environment, please rerun this cell to show the HTML representation or trust the notebook. <br />On GitHub, the HTML representation is unable to render, please try loading this page with nbviewer.org.</b></div><div class=\"sk-container\" hidden><div class=\"sk-item\"><div class=\"sk-estimator sk-toggleable\"><input class=\"sk-toggleable__control sk-hidden--visually\" id=\"sk-estimator-id-2\" type=\"checkbox\" checked><label for=\"sk-estimator-id-2\" class=\"sk-toggleable__label sk-toggleable__label-arrow\">XGBRFClassifier</label><div class=\"sk-toggleable__content\"><pre>XGBRFClassifier(base_score=None, booster=&#x27;gbtree&#x27;, callbacks=None,\n",
       "                colsample_bylevel=None, colsample_bytree=None, device=&#x27;cpu&#x27;,\n",
       "                early_stopping_rounds=None, enable_categorical=False,\n",
       "                eval_metric=&lt;function mean_absolute_error at 0x79c1fff28b80&gt;,\n",
       "                feature_types=None, gamma=2.074237418451085e-08,\n",
       "                grow_policy=&#x27;lossguide&#x27;, importance_type=None,\n",
       "                interaction_constraints=None, learning_rate=0.3010386961800788,\n",
       "                max_bin=None, max_cat_threshold=None, max_cat_to_onehot=None,\n",
       "                max_delta_step=None, max_depth=52, max_leaves=None,\n",
       "                min_child_weight=None, missing=nan, monotone_constraints=None,\n",
       "                multi_strategy=None, n_estimators=56, n_jobs=None,\n",
       "                num_parallel_tree=None, objective=&#x27;binary:logistic&#x27;,\n",
       "                random_state=None, ...)</pre></div></div></div></div></div>"
      ],
      "text/plain": [
       "XGBRFClassifier(base_score=None, booster='gbtree', callbacks=None,\n",
       "                colsample_bylevel=None, colsample_bytree=None, device='cpu',\n",
       "                early_stopping_rounds=None, enable_categorical=False,\n",
       "                eval_metric=<function mean_absolute_error at 0x79c1fff28b80>,\n",
       "                feature_types=None, gamma=2.074237418451085e-08,\n",
       "                grow_policy='lossguide', importance_type=None,\n",
       "                interaction_constraints=None, learning_rate=0.3010386961800788,\n",
       "                max_bin=None, max_cat_threshold=None, max_cat_to_onehot=None,\n",
       "                max_delta_step=None, max_depth=52, max_leaves=None,\n",
       "                min_child_weight=None, missing=nan, monotone_constraints=None,\n",
       "                multi_strategy=None, n_estimators=56, n_jobs=None,\n",
       "                num_parallel_tree=None, objective='binary:logistic',\n",
       "                random_state=None, ...)"
      ]
     },
     "execution_count": 13,
     "metadata": {},
     "output_type": "execute_result"
    }
   ],
   "source": [
    "m2.fit(X,y,eval_set=[(X,y),(x,Y)])"
   ]
  },
  {
   "cell_type": "code",
   "execution_count": 14,
   "id": "06f03f72",
   "metadata": {
    "execution": {
     "iopub.execute_input": "2024-03-06T23:39:20.528430Z",
     "iopub.status.busy": "2024-03-06T23:39:20.527755Z",
     "iopub.status.idle": "2024-03-06T23:39:20.540406Z",
     "shell.execute_reply": "2024-03-06T23:39:20.539180Z"
    },
    "papermill": {
     "duration": 0.024911,
     "end_time": "2024-03-06T23:39:20.542882",
     "exception": false,
     "start_time": "2024-03-06T23:39:20.517971",
     "status": "completed"
    },
    "tags": []
   },
   "outputs": [
    {
     "data": {
      "text/plain": [
       "0.796812749003984"
      ]
     },
     "execution_count": 14,
     "metadata": {},
     "output_type": "execute_result"
    }
   ],
   "source": [
    "trueval = dfv['Survived']\n",
    "predval = m2.predict(x)\n",
    "accuracy_score(trueval, predval)"
   ]
  },
  {
   "cell_type": "markdown",
   "id": "2a3b8a5c",
   "metadata": {
    "papermill": {
     "duration": 0.008061,
     "end_time": "2024-03-06T23:39:20.559350",
     "exception": false,
     "start_time": "2024-03-06T23:39:20.551289",
     "status": "completed"
    },
    "tags": []
   },
   "source": [
    "## Prediction"
   ]
  },
  {
   "cell_type": "markdown",
   "id": "bfb1fb97",
   "metadata": {
    "papermill": {
     "duration": 0.0085,
     "end_time": "2024-03-06T23:39:20.577128",
     "exception": false,
     "start_time": "2024-03-06T23:39:20.568628",
     "status": "completed"
    },
    "tags": []
   },
   "source": [
    "### Test DF predictions"
   ]
  },
  {
   "cell_type": "code",
   "execution_count": 15,
   "id": "f1c53141",
   "metadata": {
    "execution": {
     "iopub.execute_input": "2024-03-06T23:39:20.596122Z",
     "iopub.status.busy": "2024-03-06T23:39:20.595091Z",
     "iopub.status.idle": "2024-03-06T23:39:20.607578Z",
     "shell.execute_reply": "2024-03-06T23:39:20.606806Z"
    },
    "papermill": {
     "duration": 0.024139,
     "end_time": "2024-03-06T23:39:20.609893",
     "exception": false,
     "start_time": "2024-03-06T23:39:20.585754",
     "status": "completed"
    },
    "tags": []
   },
   "outputs": [],
   "source": [
    "dftest = pd.read_csv('/kaggle/input/titanic/test.csv')\n",
    "xtest=dftest.drop(['Name','Ticket','Cabin'],axis=1)"
   ]
  },
  {
   "cell_type": "code",
   "execution_count": 16,
   "id": "b5dc0d31",
   "metadata": {
    "execution": {
     "iopub.execute_input": "2024-03-06T23:39:20.628723Z",
     "iopub.status.busy": "2024-03-06T23:39:20.628087Z",
     "iopub.status.idle": "2024-03-06T23:39:20.640368Z",
     "shell.execute_reply": "2024-03-06T23:39:20.639359Z"
    },
    "papermill": {
     "duration": 0.024692,
     "end_time": "2024-03-06T23:39:20.642967",
     "exception": false,
     "start_time": "2024-03-06T23:39:20.618275",
     "status": "completed"
    },
    "tags": []
   },
   "outputs": [
    {
     "name": "stderr",
     "output_type": "stream",
     "text": [
      "/tmp/ipykernel_18/392077192.py:3: FutureWarning: Downcasting behavior in `replace` is deprecated and will be removed in a future version. To retain the old behavior, explicitly call `result.infer_objects(copy=False)`. To opt-in to the future behavior, set `pd.set_option('future.no_silent_downcasting', True)`\n",
      "  xtest['Sex'] = xtest['Sex'].replace({'male': 0, 'female': 1})\n",
      "/tmp/ipykernel_18/392077192.py:4: FutureWarning: Downcasting behavior in `replace` is deprecated and will be removed in a future version. To retain the old behavior, explicitly call `result.infer_objects(copy=False)`. To opt-in to the future behavior, set `pd.set_option('future.no_silent_downcasting', True)`\n",
      "  xtest['Embarked'] = xtest['Embarked'].replace({'S': 0, 'C': 1,'Q': 2})\n"
     ]
    }
   ],
   "source": [
    "xtest['Embarked'] = xtest['Embarked'].fillna('S')\n",
    "xtest['Age'] = xtest['Age'].fillna(round(xtest.Age.mean()))\n",
    "xtest['Sex'] = xtest['Sex'].replace({'male': 0, 'female': 1})\n",
    "xtest['Embarked'] = xtest['Embarked'].replace({'S': 0, 'C': 1,'Q': 2})\n",
    "xtest['Fare'] = xtest['Fare'].fillna(xtest.Fare.median())"
   ]
  },
  {
   "cell_type": "code",
   "execution_count": 17,
   "id": "cfe096fb",
   "metadata": {
    "execution": {
     "iopub.execute_input": "2024-03-06T23:39:20.661767Z",
     "iopub.status.busy": "2024-03-06T23:39:20.661402Z",
     "iopub.status.idle": "2024-03-06T23:39:20.672621Z",
     "shell.execute_reply": "2024-03-06T23:39:20.671806Z"
    },
    "papermill": {
     "duration": 0.023654,
     "end_time": "2024-03-06T23:39:20.675087",
     "exception": false,
     "start_time": "2024-03-06T23:39:20.651433",
     "status": "completed"
    },
    "tags": []
   },
   "outputs": [],
   "source": [
    "dftest['Survived'] = m2.predict(xtest)"
   ]
  },
  {
   "cell_type": "code",
   "execution_count": 18,
   "id": "46e02412",
   "metadata": {
    "execution": {
     "iopub.execute_input": "2024-03-06T23:39:20.694917Z",
     "iopub.status.busy": "2024-03-06T23:39:20.693995Z",
     "iopub.status.idle": "2024-03-06T23:39:20.703283Z",
     "shell.execute_reply": "2024-03-06T23:39:20.702347Z"
    },
    "papermill": {
     "duration": 0.021515,
     "end_time": "2024-03-06T23:39:20.705603",
     "exception": false,
     "start_time": "2024-03-06T23:39:20.684088",
     "status": "completed"
    },
    "tags": []
   },
   "outputs": [],
   "source": [
    "dfexport = dftest[['PassengerId','Survived']]\n",
    "dfexport.to_csv('predictionoutput3.csv')"
   ]
  }
 ],
 "metadata": {
  "kaggle": {
   "accelerator": "none",
   "dataSources": [
    {
     "datasetId": 4533762,
     "sourceId": 7753796,
     "sourceType": "datasetVersion"
    }
   ],
   "dockerImageVersionId": 30664,
   "isGpuEnabled": false,
   "isInternetEnabled": true,
   "language": "python",
   "sourceType": "notebook"
  },
  "kernelspec": {
   "display_name": "Python 3",
   "language": "python",
   "name": "python3"
  },
  "language_info": {
   "codemirror_mode": {
    "name": "ipython",
    "version": 3
   },
   "file_extension": ".py",
   "mimetype": "text/x-python",
   "name": "python",
   "nbconvert_exporter": "python",
   "pygments_lexer": "ipython3",
   "version": "3.10.13"
  },
  "papermill": {
   "default_parameters": {},
   "duration": 9.093495,
   "end_time": "2024-03-06T23:39:21.435020",
   "environment_variables": {},
   "exception": null,
   "input_path": "__notebook__.ipynb",
   "output_path": "__notebook__.ipynb",
   "parameters": {},
   "start_time": "2024-03-06T23:39:12.341525",
   "version": "2.5.0"
  }
 },
 "nbformat": 4,
 "nbformat_minor": 5
}
