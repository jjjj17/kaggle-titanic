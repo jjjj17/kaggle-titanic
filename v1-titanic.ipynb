{
 "cells": [
  {
   "cell_type": "code",
   "execution_count": 1,
   "id": "199f750a",
   "metadata": {
    "_cell_guid": "b1076dfc-b9ad-4769-8c92-a6c4dae69d19",
    "_uuid": "8f2839f25d086af736a60e9eeb907d3b93b6e0e5",
    "execution": {
     "iopub.execute_input": "2024-03-04T02:35:00.362069Z",
     "iopub.status.busy": "2024-03-04T02:35:00.360702Z",
     "iopub.status.idle": "2024-03-04T02:35:01.381912Z",
     "shell.execute_reply": "2024-03-04T02:35:01.380636Z"
    },
    "papermill": {
     "duration": 1.0337,
     "end_time": "2024-03-04T02:35:01.385207",
     "exception": false,
     "start_time": "2024-03-04T02:35:00.351507",
     "status": "completed"
    },
    "tags": []
   },
   "outputs": [
    {
     "name": "stdout",
     "output_type": "stream",
     "text": [
      "/kaggle/input/titanic/train.csv\n",
      "/kaggle/input/titanic/test.csv\n",
      "/kaggle/input/titanic/gender_submission.csv\n"
     ]
    }
   ],
   "source": [
    "# This Python 3 environment comes with many helpful analytics libraries installed\n",
    "# It is defined by the kaggle/python Docker image: https://github.com/kaggle/docker-python\n",
    "# For example, here's several helpful packages to load\n",
    "\n",
    "import numpy as np # linear algebra\n",
    "import pandas as pd # data processing, CSV file I/O (e.g. pd.read_csv)\n",
    "\n",
    "# Input data files are available in the read-only \"../input/\" directory\n",
    "# For example, running this (by clicking run or pressing Shift+Enter) will list all files under the input directory\n",
    "\n",
    "import os\n",
    "for dirname, _, filenames in os.walk('/kaggle/input'):\n",
    "    for filename in filenames:\n",
    "        print(os.path.join(dirname, filename))\n",
    "\n",
    "# You can write up to 20GB to the current directory (/kaggle/working/) that gets preserved as output when you create a version using \"Save & Run All\" \n",
    "# You can also write temporary files to /kaggle/temp/, but they won't be saved outside of the current session"
   ]
  },
  {
   "cell_type": "code",
   "execution_count": 2,
   "id": "92805e89",
   "metadata": {
    "execution": {
     "iopub.execute_input": "2024-03-04T02:35:01.400108Z",
     "iopub.status.busy": "2024-03-04T02:35:01.399536Z",
     "iopub.status.idle": "2024-03-04T02:35:03.301983Z",
     "shell.execute_reply": "2024-03-04T02:35:03.300876Z"
    },
    "papermill": {
     "duration": 1.913202,
     "end_time": "2024-03-04T02:35:03.305189",
     "exception": false,
     "start_time": "2024-03-04T02:35:01.391987",
     "status": "completed"
    },
    "tags": []
   },
   "outputs": [],
   "source": [
    "from sklearn.tree import DecisionTreeClassifier\n",
    "from sklearn import tree\n",
    "from sklearn.metrics import accuracy_score\n",
    "from matplotlib import pyplot as plt\n",
    "import graphviz"
   ]
  },
  {
   "cell_type": "code",
   "execution_count": 3,
   "id": "c0866ef5",
   "metadata": {
    "execution": {
     "iopub.execute_input": "2024-03-04T02:35:03.320786Z",
     "iopub.status.busy": "2024-03-04T02:35:03.320343Z",
     "iopub.status.idle": "2024-03-04T02:35:03.325950Z",
     "shell.execute_reply": "2024-03-04T02:35:03.324725Z"
    },
    "papermill": {
     "duration": 0.015776,
     "end_time": "2024-03-04T02:35:03.328357",
     "exception": false,
     "start_time": "2024-03-04T02:35:03.312581",
     "status": "completed"
    },
    "tags": []
   },
   "outputs": [],
   "source": [
    "model=DecisionTreeClassifier(max_depth=5)"
   ]
  },
  {
   "cell_type": "code",
   "execution_count": 4,
   "id": "dd93e6d2",
   "metadata": {
    "execution": {
     "iopub.execute_input": "2024-03-04T02:35:03.341997Z",
     "iopub.status.busy": "2024-03-04T02:35:03.341552Z",
     "iopub.status.idle": "2024-03-04T02:35:03.458391Z",
     "shell.execute_reply": "2024-03-04T02:35:03.457015Z"
    },
    "papermill": {
     "duration": 0.127674,
     "end_time": "2024-03-04T02:35:03.462089",
     "exception": false,
     "start_time": "2024-03-04T02:35:03.334415",
     "status": "completed"
    },
    "tags": []
   },
   "outputs": [],
   "source": [
    "df = pd.read_csv(\"/kaggle/input/titanic/train.csv\")"
   ]
  },
  {
   "cell_type": "code",
   "execution_count": 5,
   "id": "2612c07c",
   "metadata": {
    "execution": {
     "iopub.execute_input": "2024-03-04T02:35:03.480775Z",
     "iopub.status.busy": "2024-03-04T02:35:03.479965Z",
     "iopub.status.idle": "2024-03-04T02:35:03.489944Z",
     "shell.execute_reply": "2024-03-04T02:35:03.488983Z"
    },
    "papermill": {
     "duration": 0.022758,
     "end_time": "2024-03-04T02:35:03.493150",
     "exception": false,
     "start_time": "2024-03-04T02:35:03.470392",
     "status": "completed"
    },
    "tags": []
   },
   "outputs": [],
   "source": [
    "#Embarked -> S replace\n",
    "#Cabin -> Replace (N)\n",
    "#Age -> replace w/ avg\n",
    "embreplace = 'S'\n",
    "cabreplace = 'N'\n",
    "agereplace = round(df.Age.mean())"
   ]
  },
  {
   "cell_type": "code",
   "execution_count": 6,
   "id": "1471f016",
   "metadata": {
    "execution": {
     "iopub.execute_input": "2024-03-04T02:35:03.512288Z",
     "iopub.status.busy": "2024-03-04T02:35:03.511541Z",
     "iopub.status.idle": "2024-03-04T02:35:03.524773Z",
     "shell.execute_reply": "2024-03-04T02:35:03.523691Z"
    },
    "papermill": {
     "duration": 0.026097,
     "end_time": "2024-03-04T02:35:03.527800",
     "exception": false,
     "start_time": "2024-03-04T02:35:03.501703",
     "status": "completed"
    },
    "tags": []
   },
   "outputs": [],
   "source": [
    "y= df['Survived']\n",
    "X=df.drop(['Survived','Name','Ticket','Cabin'],axis=1)"
   ]
  },
  {
   "cell_type": "code",
   "execution_count": 7,
   "id": "d55f656e",
   "metadata": {
    "execution": {
     "iopub.execute_input": "2024-03-04T02:35:03.546365Z",
     "iopub.status.busy": "2024-03-04T02:35:03.545595Z",
     "iopub.status.idle": "2024-03-04T02:35:03.557029Z",
     "shell.execute_reply": "2024-03-04T02:35:03.556114Z"
    },
    "papermill": {
     "duration": 0.023974,
     "end_time": "2024-03-04T02:35:03.559937",
     "exception": false,
     "start_time": "2024-03-04T02:35:03.535963",
     "status": "completed"
    },
    "tags": []
   },
   "outputs": [
    {
     "name": "stderr",
     "output_type": "stream",
     "text": [
      "/tmp/ipykernel_18/2287704100.py:4: FutureWarning: Downcasting behavior in `replace` is deprecated and will be removed in a future version. To retain the old behavior, explicitly call `result.infer_objects(copy=False)`. To opt-in to the future behavior, set `pd.set_option('future.no_silent_downcasting', True)`\n",
      "  X['Sex'] = X['Sex'].replace({'male': 0, 'female': 1})\n",
      "/tmp/ipykernel_18/2287704100.py:5: FutureWarning: Downcasting behavior in `replace` is deprecated and will be removed in a future version. To retain the old behavior, explicitly call `result.infer_objects(copy=False)`. To opt-in to the future behavior, set `pd.set_option('future.no_silent_downcasting', True)`\n",
      "  X['Embarked'] = X['Embarked'].replace({'S': 0, 'C': 1,'Q': 2})\n"
     ]
    }
   ],
   "source": [
    "X['Embarked'] = X['Embarked'].fillna(embreplace)\n",
    "#X['Cabin'] = X['Cabin'].fillna(cabreplace)\n",
    "X['Age'] = X['Age'].fillna(agereplace)\n",
    "X['Sex'] = X['Sex'].replace({'male': 0, 'female': 1})\n",
    "X['Embarked'] = X['Embarked'].replace({'S': 0, 'C': 1,'Q': 2})"
   ]
  },
  {
   "cell_type": "code",
   "execution_count": 8,
   "id": "077851e5",
   "metadata": {
    "execution": {
     "iopub.execute_input": "2024-03-04T02:35:03.576806Z",
     "iopub.status.busy": "2024-03-04T02:35:03.575813Z",
     "iopub.status.idle": "2024-03-04T02:35:03.598068Z",
     "shell.execute_reply": "2024-03-04T02:35:03.596781Z"
    },
    "papermill": {
     "duration": 0.033672,
     "end_time": "2024-03-04T02:35:03.601567",
     "exception": false,
     "start_time": "2024-03-04T02:35:03.567895",
     "status": "completed"
    },
    "tags": []
   },
   "outputs": [
    {
     "data": {
      "text/html": [
       "<style>#sk-container-id-1 {color: black;background-color: white;}#sk-container-id-1 pre{padding: 0;}#sk-container-id-1 div.sk-toggleable {background-color: white;}#sk-container-id-1 label.sk-toggleable__label {cursor: pointer;display: block;width: 100%;margin-bottom: 0;padding: 0.3em;box-sizing: border-box;text-align: center;}#sk-container-id-1 label.sk-toggleable__label-arrow:before {content: \"▸\";float: left;margin-right: 0.25em;color: #696969;}#sk-container-id-1 label.sk-toggleable__label-arrow:hover:before {color: black;}#sk-container-id-1 div.sk-estimator:hover label.sk-toggleable__label-arrow:before {color: black;}#sk-container-id-1 div.sk-toggleable__content {max-height: 0;max-width: 0;overflow: hidden;text-align: left;background-color: #f0f8ff;}#sk-container-id-1 div.sk-toggleable__content pre {margin: 0.2em;color: black;border-radius: 0.25em;background-color: #f0f8ff;}#sk-container-id-1 input.sk-toggleable__control:checked~div.sk-toggleable__content {max-height: 200px;max-width: 100%;overflow: auto;}#sk-container-id-1 input.sk-toggleable__control:checked~label.sk-toggleable__label-arrow:before {content: \"▾\";}#sk-container-id-1 div.sk-estimator input.sk-toggleable__control:checked~label.sk-toggleable__label {background-color: #d4ebff;}#sk-container-id-1 div.sk-label input.sk-toggleable__control:checked~label.sk-toggleable__label {background-color: #d4ebff;}#sk-container-id-1 input.sk-hidden--visually {border: 0;clip: rect(1px 1px 1px 1px);clip: rect(1px, 1px, 1px, 1px);height: 1px;margin: -1px;overflow: hidden;padding: 0;position: absolute;width: 1px;}#sk-container-id-1 div.sk-estimator {font-family: monospace;background-color: #f0f8ff;border: 1px dotted black;border-radius: 0.25em;box-sizing: border-box;margin-bottom: 0.5em;}#sk-container-id-1 div.sk-estimator:hover {background-color: #d4ebff;}#sk-container-id-1 div.sk-parallel-item::after {content: \"\";width: 100%;border-bottom: 1px solid gray;flex-grow: 1;}#sk-container-id-1 div.sk-label:hover label.sk-toggleable__label {background-color: #d4ebff;}#sk-container-id-1 div.sk-serial::before {content: \"\";position: absolute;border-left: 1px solid gray;box-sizing: border-box;top: 0;bottom: 0;left: 50%;z-index: 0;}#sk-container-id-1 div.sk-serial {display: flex;flex-direction: column;align-items: center;background-color: white;padding-right: 0.2em;padding-left: 0.2em;position: relative;}#sk-container-id-1 div.sk-item {position: relative;z-index: 1;}#sk-container-id-1 div.sk-parallel {display: flex;align-items: stretch;justify-content: center;background-color: white;position: relative;}#sk-container-id-1 div.sk-item::before, #sk-container-id-1 div.sk-parallel-item::before {content: \"\";position: absolute;border-left: 1px solid gray;box-sizing: border-box;top: 0;bottom: 0;left: 50%;z-index: -1;}#sk-container-id-1 div.sk-parallel-item {display: flex;flex-direction: column;z-index: 1;position: relative;background-color: white;}#sk-container-id-1 div.sk-parallel-item:first-child::after {align-self: flex-end;width: 50%;}#sk-container-id-1 div.sk-parallel-item:last-child::after {align-self: flex-start;width: 50%;}#sk-container-id-1 div.sk-parallel-item:only-child::after {width: 0;}#sk-container-id-1 div.sk-dashed-wrapped {border: 1px dashed gray;margin: 0 0.4em 0.5em 0.4em;box-sizing: border-box;padding-bottom: 0.4em;background-color: white;}#sk-container-id-1 div.sk-label label {font-family: monospace;font-weight: bold;display: inline-block;line-height: 1.2em;}#sk-container-id-1 div.sk-label-container {text-align: center;}#sk-container-id-1 div.sk-container {/* jupyter's `normalize.less` sets `[hidden] { display: none; }` but bootstrap.min.css set `[hidden] { display: none !important; }` so we also need the `!important` here to be able to override the default hidden behavior on the sphinx rendered scikit-learn.org. See: https://github.com/scikit-learn/scikit-learn/issues/21755 */display: inline-block !important;position: relative;}#sk-container-id-1 div.sk-text-repr-fallback {display: none;}</style><div id=\"sk-container-id-1\" class=\"sk-top-container\"><div class=\"sk-text-repr-fallback\"><pre>DecisionTreeClassifier(max_depth=5)</pre><b>In a Jupyter environment, please rerun this cell to show the HTML representation or trust the notebook. <br />On GitHub, the HTML representation is unable to render, please try loading this page with nbviewer.org.</b></div><div class=\"sk-container\" hidden><div class=\"sk-item\"><div class=\"sk-estimator sk-toggleable\"><input class=\"sk-toggleable__control sk-hidden--visually\" id=\"sk-estimator-id-1\" type=\"checkbox\" checked><label for=\"sk-estimator-id-1\" class=\"sk-toggleable__label sk-toggleable__label-arrow\">DecisionTreeClassifier</label><div class=\"sk-toggleable__content\"><pre>DecisionTreeClassifier(max_depth=5)</pre></div></div></div></div></div>"
      ],
      "text/plain": [
       "DecisionTreeClassifier(max_depth=5)"
      ]
     },
     "execution_count": 8,
     "metadata": {},
     "output_type": "execute_result"
    }
   ],
   "source": [
    "model.fit(X,y)"
   ]
  },
  {
   "cell_type": "code",
   "execution_count": 9,
   "id": "b734d2b4",
   "metadata": {
    "execution": {
     "iopub.execute_input": "2024-03-04T02:35:03.618660Z",
     "iopub.status.busy": "2024-03-04T02:35:03.617858Z",
     "iopub.status.idle": "2024-03-04T02:35:03.630615Z",
     "shell.execute_reply": "2024-03-04T02:35:03.629465Z"
    },
    "papermill": {
     "duration": 0.023284,
     "end_time": "2024-03-04T02:35:03.633031",
     "exception": false,
     "start_time": "2024-03-04T02:35:03.609747",
     "status": "completed"
    },
    "tags": []
   },
   "outputs": [
    {
     "data": {
      "text/plain": [
       "0.8518518518518519"
      ]
     },
     "execution_count": 9,
     "metadata": {},
     "output_type": "execute_result"
    }
   ],
   "source": [
    "trueval = y\n",
    "predval = model.predict(X)\n",
    "accuracy_score(trueval, predval)"
   ]
  },
  {
   "cell_type": "code",
   "execution_count": 10,
   "id": "491f7a8f",
   "metadata": {
    "execution": {
     "iopub.execute_input": "2024-03-04T02:35:03.649465Z",
     "iopub.status.busy": "2024-03-04T02:35:03.648654Z",
     "iopub.status.idle": "2024-03-04T02:35:04.320328Z",
     "shell.execute_reply": "2024-03-04T02:35:04.319329Z"
    },
    "papermill": {
     "duration": 0.683154,
     "end_time": "2024-03-04T02:35:04.323028",
     "exception": false,
     "start_time": "2024-03-04T02:35:03.639874",
     "status": "completed"
    },
    "tags": []
   },
   "outputs": [
    {
     "data": {
      "text/plain": [
       "'temp_file.png'"
      ]
     },
     "execution_count": 10,
     "metadata": {},
     "output_type": "execute_result"
    }
   ],
   "source": [
    "dot_data = tree.export_graphviz(model,\n",
    "                                feature_names=list(X.columns.values),\n",
    "                                class_names= list(['Died','Survived']),\n",
    "                                filled=True)\n",
    "\n",
    "graph = graphviz.Source(dot_data, format=\"png\") \n",
    "\n",
    "fie_ext = 'png'\n",
    "temp_img = 'temp_file'\n",
    "my_graph = graphviz.Source(dot_data)\n",
    "my_graph.render(temp_img,format=fie_ext, view=False)"
   ]
  },
  {
   "cell_type": "code",
   "execution_count": 11,
   "id": "655b480c",
   "metadata": {
    "execution": {
     "iopub.execute_input": "2024-03-04T02:35:04.338177Z",
     "iopub.status.busy": "2024-03-04T02:35:04.337769Z",
     "iopub.status.idle": "2024-03-04T02:35:04.350924Z",
     "shell.execute_reply": "2024-03-04T02:35:04.349964Z"
    },
    "papermill": {
     "duration": 0.023674,
     "end_time": "2024-03-04T02:35:04.353427",
     "exception": false,
     "start_time": "2024-03-04T02:35:04.329753",
     "status": "completed"
    },
    "tags": []
   },
   "outputs": [],
   "source": [
    "dftest = pd.read_csv('/kaggle/input/titanic/test.csv')\n",
    "x=dftest.drop(['Name','Ticket','Cabin'],axis=1)"
   ]
  },
  {
   "cell_type": "code",
   "execution_count": 12,
   "id": "ebd5f19c",
   "metadata": {
    "execution": {
     "iopub.execute_input": "2024-03-04T02:35:04.368723Z",
     "iopub.status.busy": "2024-03-04T02:35:04.368059Z",
     "iopub.status.idle": "2024-03-04T02:35:04.394995Z",
     "shell.execute_reply": "2024-03-04T02:35:04.393633Z"
    },
    "papermill": {
     "duration": 0.037832,
     "end_time": "2024-03-04T02:35:04.397845",
     "exception": false,
     "start_time": "2024-03-04T02:35:04.360013",
     "status": "completed"
    },
    "tags": []
   },
   "outputs": [
    {
     "data": {
      "text/html": [
       "<div>\n",
       "<style scoped>\n",
       "    .dataframe tbody tr th:only-of-type {\n",
       "        vertical-align: middle;\n",
       "    }\n",
       "\n",
       "    .dataframe tbody tr th {\n",
       "        vertical-align: top;\n",
       "    }\n",
       "\n",
       "    .dataframe thead th {\n",
       "        text-align: right;\n",
       "    }\n",
       "</style>\n",
       "<table border=\"1\" class=\"dataframe\">\n",
       "  <thead>\n",
       "    <tr style=\"text-align: right;\">\n",
       "      <th></th>\n",
       "      <th>PassengerId</th>\n",
       "      <th>Pclass</th>\n",
       "      <th>Sex</th>\n",
       "      <th>Age</th>\n",
       "      <th>SibSp</th>\n",
       "      <th>Parch</th>\n",
       "      <th>Fare</th>\n",
       "      <th>Embarked</th>\n",
       "    </tr>\n",
       "  </thead>\n",
       "  <tbody>\n",
       "    <tr>\n",
       "      <th>0</th>\n",
       "      <td>892</td>\n",
       "      <td>3</td>\n",
       "      <td>male</td>\n",
       "      <td>34.5</td>\n",
       "      <td>0</td>\n",
       "      <td>0</td>\n",
       "      <td>7.8292</td>\n",
       "      <td>Q</td>\n",
       "    </tr>\n",
       "    <tr>\n",
       "      <th>1</th>\n",
       "      <td>893</td>\n",
       "      <td>3</td>\n",
       "      <td>female</td>\n",
       "      <td>47.0</td>\n",
       "      <td>1</td>\n",
       "      <td>0</td>\n",
       "      <td>7.0000</td>\n",
       "      <td>S</td>\n",
       "    </tr>\n",
       "    <tr>\n",
       "      <th>2</th>\n",
       "      <td>894</td>\n",
       "      <td>2</td>\n",
       "      <td>male</td>\n",
       "      <td>62.0</td>\n",
       "      <td>0</td>\n",
       "      <td>0</td>\n",
       "      <td>9.6875</td>\n",
       "      <td>Q</td>\n",
       "    </tr>\n",
       "    <tr>\n",
       "      <th>3</th>\n",
       "      <td>895</td>\n",
       "      <td>3</td>\n",
       "      <td>male</td>\n",
       "      <td>27.0</td>\n",
       "      <td>0</td>\n",
       "      <td>0</td>\n",
       "      <td>8.6625</td>\n",
       "      <td>S</td>\n",
       "    </tr>\n",
       "    <tr>\n",
       "      <th>4</th>\n",
       "      <td>896</td>\n",
       "      <td>3</td>\n",
       "      <td>female</td>\n",
       "      <td>22.0</td>\n",
       "      <td>1</td>\n",
       "      <td>1</td>\n",
       "      <td>12.2875</td>\n",
       "      <td>S</td>\n",
       "    </tr>\n",
       "    <tr>\n",
       "      <th>...</th>\n",
       "      <td>...</td>\n",
       "      <td>...</td>\n",
       "      <td>...</td>\n",
       "      <td>...</td>\n",
       "      <td>...</td>\n",
       "      <td>...</td>\n",
       "      <td>...</td>\n",
       "      <td>...</td>\n",
       "    </tr>\n",
       "    <tr>\n",
       "      <th>413</th>\n",
       "      <td>1305</td>\n",
       "      <td>3</td>\n",
       "      <td>male</td>\n",
       "      <td>NaN</td>\n",
       "      <td>0</td>\n",
       "      <td>0</td>\n",
       "      <td>8.0500</td>\n",
       "      <td>S</td>\n",
       "    </tr>\n",
       "    <tr>\n",
       "      <th>414</th>\n",
       "      <td>1306</td>\n",
       "      <td>1</td>\n",
       "      <td>female</td>\n",
       "      <td>39.0</td>\n",
       "      <td>0</td>\n",
       "      <td>0</td>\n",
       "      <td>108.9000</td>\n",
       "      <td>C</td>\n",
       "    </tr>\n",
       "    <tr>\n",
       "      <th>415</th>\n",
       "      <td>1307</td>\n",
       "      <td>3</td>\n",
       "      <td>male</td>\n",
       "      <td>38.5</td>\n",
       "      <td>0</td>\n",
       "      <td>0</td>\n",
       "      <td>7.2500</td>\n",
       "      <td>S</td>\n",
       "    </tr>\n",
       "    <tr>\n",
       "      <th>416</th>\n",
       "      <td>1308</td>\n",
       "      <td>3</td>\n",
       "      <td>male</td>\n",
       "      <td>NaN</td>\n",
       "      <td>0</td>\n",
       "      <td>0</td>\n",
       "      <td>8.0500</td>\n",
       "      <td>S</td>\n",
       "    </tr>\n",
       "    <tr>\n",
       "      <th>417</th>\n",
       "      <td>1309</td>\n",
       "      <td>3</td>\n",
       "      <td>male</td>\n",
       "      <td>NaN</td>\n",
       "      <td>1</td>\n",
       "      <td>1</td>\n",
       "      <td>22.3583</td>\n",
       "      <td>C</td>\n",
       "    </tr>\n",
       "  </tbody>\n",
       "</table>\n",
       "<p>418 rows × 8 columns</p>\n",
       "</div>"
      ],
      "text/plain": [
       "     PassengerId  Pclass     Sex   Age  SibSp  Parch      Fare Embarked\n",
       "0            892       3    male  34.5      0      0    7.8292        Q\n",
       "1            893       3  female  47.0      1      0    7.0000        S\n",
       "2            894       2    male  62.0      0      0    9.6875        Q\n",
       "3            895       3    male  27.0      0      0    8.6625        S\n",
       "4            896       3  female  22.0      1      1   12.2875        S\n",
       "..           ...     ...     ...   ...    ...    ...       ...      ...\n",
       "413         1305       3    male   NaN      0      0    8.0500        S\n",
       "414         1306       1  female  39.0      0      0  108.9000        C\n",
       "415         1307       3    male  38.5      0      0    7.2500        S\n",
       "416         1308       3    male   NaN      0      0    8.0500        S\n",
       "417         1309       3    male   NaN      1      1   22.3583        C\n",
       "\n",
       "[418 rows x 8 columns]"
      ]
     },
     "execution_count": 12,
     "metadata": {},
     "output_type": "execute_result"
    }
   ],
   "source": [
    "x"
   ]
  },
  {
   "cell_type": "code",
   "execution_count": 13,
   "id": "b6cce96d",
   "metadata": {
    "execution": {
     "iopub.execute_input": "2024-03-04T02:35:04.413847Z",
     "iopub.status.busy": "2024-03-04T02:35:04.413370Z",
     "iopub.status.idle": "2024-03-04T02:35:04.428183Z",
     "shell.execute_reply": "2024-03-04T02:35:04.427253Z"
    },
    "papermill": {
     "duration": 0.02635,
     "end_time": "2024-03-04T02:35:04.431262",
     "exception": false,
     "start_time": "2024-03-04T02:35:04.404912",
     "status": "completed"
    },
    "tags": []
   },
   "outputs": [
    {
     "name": "stderr",
     "output_type": "stream",
     "text": [
      "/tmp/ipykernel_18/3465737323.py:3: FutureWarning: Downcasting behavior in `replace` is deprecated and will be removed in a future version. To retain the old behavior, explicitly call `result.infer_objects(copy=False)`. To opt-in to the future behavior, set `pd.set_option('future.no_silent_downcasting', True)`\n",
      "  x['Sex'] = x['Sex'].replace({'male': 0, 'female': 1})\n",
      "/tmp/ipykernel_18/3465737323.py:4: FutureWarning: Downcasting behavior in `replace` is deprecated and will be removed in a future version. To retain the old behavior, explicitly call `result.infer_objects(copy=False)`. To opt-in to the future behavior, set `pd.set_option('future.no_silent_downcasting', True)`\n",
      "  x['Embarked'] = x['Embarked'].replace({'S': 0, 'C': 1,'Q': 2})\n"
     ]
    }
   ],
   "source": [
    "x['Embarked'] = x['Embarked'].fillna(embreplace)\n",
    "x['Age'] = x['Age'].fillna(round(dftest.Age.mean()))\n",
    "x['Sex'] = x['Sex'].replace({'male': 0, 'female': 1})\n",
    "x['Embarked'] = x['Embarked'].replace({'S': 0, 'C': 1,'Q': 2})\n",
    "x['Fare'] = x['Fare'].fillna(x.Fare.median())"
   ]
  },
  {
   "cell_type": "code",
   "execution_count": 14,
   "id": "87c77c3f",
   "metadata": {
    "execution": {
     "iopub.execute_input": "2024-03-04T02:35:04.448500Z",
     "iopub.status.busy": "2024-03-04T02:35:04.447725Z",
     "iopub.status.idle": "2024-03-04T02:35:04.455622Z",
     "shell.execute_reply": "2024-03-04T02:35:04.454597Z"
    },
    "papermill": {
     "duration": 0.019974,
     "end_time": "2024-03-04T02:35:04.458374",
     "exception": false,
     "start_time": "2024-03-04T02:35:04.438400",
     "status": "completed"
    },
    "tags": []
   },
   "outputs": [],
   "source": [
    "dftest['Survived'] = model.predict(x)"
   ]
  },
  {
   "cell_type": "code",
   "execution_count": 15,
   "id": "055298aa",
   "metadata": {
    "execution": {
     "iopub.execute_input": "2024-03-04T02:35:04.475373Z",
     "iopub.status.busy": "2024-03-04T02:35:04.474645Z",
     "iopub.status.idle": "2024-03-04T02:35:04.484987Z",
     "shell.execute_reply": "2024-03-04T02:35:04.483693Z"
    },
    "papermill": {
     "duration": 0.022171,
     "end_time": "2024-03-04T02:35:04.487836",
     "exception": false,
     "start_time": "2024-03-04T02:35:04.465665",
     "status": "completed"
    },
    "tags": []
   },
   "outputs": [],
   "source": [
    "dfexport = dftest[['PassengerId','Survived']]\n",
    "dfexport.to_csv('predictionoutput.csv')"
   ]
  }
 ],
 "metadata": {
  "kaggle": {
   "accelerator": "none",
   "dataSources": [
    {
     "datasetId": 4533762,
     "sourceId": 7753796,
     "sourceType": "datasetVersion"
    }
   ],
   "dockerImageVersionId": 30664,
   "isGpuEnabled": false,
   "isInternetEnabled": true,
   "language": "python",
   "sourceType": "notebook"
  },
  "kernelspec": {
   "display_name": "Python 3",
   "language": "python",
   "name": "python3"
  },
  "language_info": {
   "codemirror_mode": {
    "name": "ipython",
    "version": 3
   },
   "file_extension": ".py",
   "mimetype": "text/x-python",
   "name": "python",
   "nbconvert_exporter": "python",
   "pygments_lexer": "ipython3",
   "version": "3.10.13"
  },
  "papermill": {
   "default_parameters": {},
   "duration": 7.853988,
   "end_time": "2024-03-04T02:35:05.116211",
   "environment_variables": {},
   "exception": null,
   "input_path": "__notebook__.ipynb",
   "output_path": "__notebook__.ipynb",
   "parameters": {},
   "start_time": "2024-03-04T02:34:57.262223",
   "version": "2.5.0"
  }
 },
 "nbformat": 4,
 "nbformat_minor": 5
}
